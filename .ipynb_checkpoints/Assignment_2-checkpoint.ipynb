{
 "cells": [
  {
   "cell_type": "markdown",
   "id": "5903ff23",
   "metadata": {},
   "source": [
    "# Name: Andy Yu"
   ]
  },
  {
   "cell_type": "code",
   "execution_count": 2,
   "id": "1443cdff",
   "metadata": {},
   "outputs": [],
   "source": [
    "import re"
   ]
  },
  {
   "cell_type": "markdown",
   "id": "9aa8d15e",
   "metadata": {},
   "source": [
    "# Assignment 2: Analyzing large datasets with Spark.\n",
    "\n",
    "\n",
    "For this assignment, you will need to make sure you're running from a PySpark docker environment I introduced in class. You can start the docker pySpark docker environment using the following command:\n",
    "\n",
    "```\n",
    "docker run --rm -p 4040:4040 -p 8888:8888 -v $(pwd):/home/jovyan/work jupyter/all-spark-notebook\n",
    "```\n",
    "\n",
    "Make sure you run the command from the directory containing this jupyter notebook and your data folder.\n",
    "\n",
    "\n",
    "</b>\n",
    "# WARNING: For some reason, ipynbb document didn't always sync properly when I was pushing to github. As such, please push often and make sure your incremental changes appear on GitHub.\n",
    "</b>"
   ]
  },
  {
   "cell_type": "markdown",
   "id": "66b0d3e6",
   "metadata": {},
   "source": [
    "### Part 1\n",
    "\n",
    "The first part will use Spark to analyze the following books, which I have downloaded for you to use from Project Gutenberg. The files are saved to the data folder.\n",
    "\n",
    "| File name | Book Title|\n",
    "|:---------:|:----------|\n",
    "|43.txt | The Strange Case of Dr. Jekyll and Mr. Hyde by Robert Louis Stevenson|\n",
    "|84.txt | Frankenstein; Or, The Modern Prometheus by Mary Wollstonecraft Shelley |\n",
    "|398.txt  | The First Book of Adam and Eve by Rutherford Hayes Platt|\n",
    "|3296.txt | The Confessions of St. Augustine by Bishop of Hippo Saint Augustine|\n",
    "\n",
    "The objective is to explore whether we can detect similarity between books within the same topic using word-based similarity. \n",
    "\n",
    "The task of identifying similar texts in Natural Language Processing is crucial. A naive method for determining whether two documents are similar is to treat them as collections of words (bag of words) and use the number of words they share as a proxy for their similarity. It makes sense that two books with religion as the topic (e.g.  `398.txt` and `3296.txt`) would have more words in common than a book that discusses religion and a book that discusses science fiction (e.g. books `84.txt` and `398.txt`). \n",
    "\n",
    "As mentioned above, we will be using Spark to analyze the data. Although Spark is not needed for such a small example, the platform would be ideal for analyzing very large collections of documents, like those often analyzed by large corporations\n",
    "\n",
    "This part of the assignment will rely exclusively on RDDs."
   ]
  },
  {
   "cell_type": "markdown",
   "id": "87a15530",
   "metadata": {},
   "source": [
    "### Q1. \n",
    "Start by importing Spark and making sure your environment is set up properly for the assignment.\n",
    "\n",
    "Import the spark context necessary to load a document as an RDD; ignore any error messages"
   ]
  },
  {
   "cell_type": "code",
   "execution_count": 3,
   "id": "e80df4d4",
   "metadata": {},
   "outputs": [
    {
     "name": "stderr",
     "output_type": "stream",
     "text": [
      "WARNING: An illegal reflective access operation has occurred\n",
      "WARNING: Illegal reflective access by org.apache.spark.unsafe.Platform (file:/usr/local/spark-3.2.0-bin-hadoop3.2/jars/spark-unsafe_2.12-3.2.0.jar) to constructor java.nio.DirectByteBuffer(long,int)\n",
      "WARNING: Please consider reporting this to the maintainers of org.apache.spark.unsafe.Platform\n",
      "WARNING: Use --illegal-access=warn to enable warnings of further illegal reflective access operations\n",
      "WARNING: All illegal access operations will be denied in a future release\n",
      "Using Spark's default log4j profile: org/apache/spark/log4j-defaults.properties\n",
      "Setting default log level to \"WARN\".\n",
      "To adjust logging level use sc.setLogLevel(newLevel). For SparkR, use setLogLevel(newLevel).\n",
      "21/11/09 02:55:16 WARN NativeCodeLoader: Unable to load native-hadoop library for your platform... using builtin-java classes where applicable\n"
     ]
    }
   ],
   "source": [
    "### Write your code here\n",
    "from pyspark import SparkContext\n",
    "\n",
    "sc = SparkContext()"
   ]
  },
  {
   "cell_type": "markdown",
   "id": "336d5c9d",
   "metadata": {},
   "source": [
    "### Q2 \n",
    "\n",
    "Read in the file `43.txt` as a spark RDD and save it to a variable called `book_43`\n",
    " * make sure `book_43` is of type MapPartitionsRDD, i.e.,\n",
    "   * str(type(book_43)) == \"<class 'pyspark.rdd.RDD'>\" should return True "
   ]
  },
  {
   "cell_type": "code",
   "execution_count": 4,
   "id": "3d4164f5",
   "metadata": {},
   "outputs": [
    {
     "data": {
      "text/plain": [
       "True"
      ]
     },
     "execution_count": 4,
     "metadata": {},
     "output_type": "execute_result"
    }
   ],
   "source": [
    "### Write your code here\n",
    "book_43 = sc.textFile('data/43.txt', minPartitions=4)\n",
    "\n",
    "str(type(book_43)) == \"<class 'pyspark.rdd.RDD'>\""
   ]
  },
  {
   "cell_type": "markdown",
   "id": "0b8c051e",
   "metadata": {},
   "source": [
    "### Q3\n",
    "\n",
    "How many lines does `book_43` contain?\n",
    "* You can only use operations or actions on RDDs to answer the question. \n",
    "  * Code that uses methods such as `some_rdd.X().Y().Z()...` is allowed\n",
    "  * Code that uses functions such as `some_func(...)` is not allowed"
   ]
  },
  {
   "cell_type": "code",
   "execution_count": 5,
   "id": "b3c5a06e",
   "metadata": {},
   "outputs": [
    {
     "name": "stderr",
     "output_type": "stream",
     "text": [
      "\r",
      "[Stage 0:>                                                          (0 + 4) / 4]\r"
     ]
    },
    {
     "name": "stdout",
     "output_type": "stream",
     "text": [
      "There are 2935 lines in book_43\n"
     ]
    },
    {
     "name": "stderr",
     "output_type": "stream",
     "text": [
      "\r",
      "                                                                                \r"
     ]
    }
   ],
   "source": [
    "### Write your code here\n",
    "lines = book_43.count()\n",
    "\n",
    "print(f\"There are {lines} lines in book_43\")"
   ]
  },
  {
   "cell_type": "markdown",
   "id": "bca2bc6d",
   "metadata": {},
   "source": [
    "### Q4 \n",
    "\n",
    "Prior to analyzing the words contained in this book, we need to first remove the occurrences of non-alphabetical characters and numbers from the text. You can use the following function, which takes a line as input, removes digits and non-word characters, and splits it into a collection of words. \n",
    "\n",
    "```python\n",
    "def clean_split_line(line):\n",
    "    a = re.sub('\\d+', '', line)\n",
    "    b = re.sub('[\\W]+', ' ', a)\n",
    "    return b.upper().split()\n",
    "```\n",
    "\n",
    "Use the fucntion above on the variable (test_line) to see what it returns.\n",
    "```python\n",
    "test_line = \"This is an example of that contains 234 and a dash-containing number\"\n",
    "```"
   ]
  },
  {
   "cell_type": "code",
   "execution_count": 6,
   "id": "55ce2754",
   "metadata": {},
   "outputs": [
    {
     "data": {
      "text/plain": [
       "['THIS',\n",
       " 'IS',\n",
       " 'AN',\n",
       " 'EXAMPLE',\n",
       " 'OF',\n",
       " 'THAT',\n",
       " 'CONTAINS',\n",
       " 'AND',\n",
       " 'A',\n",
       " 'DASH',\n",
       " 'CONTAINING',\n",
       " 'NUMBER']"
      ]
     },
     "execution_count": 6,
     "metadata": {},
     "output_type": "execute_result"
    }
   ],
   "source": [
    "### Write your code here\n",
    "def clean_split_line(line):\n",
    "    a = re.sub('\\d+', '', line)\n",
    "    b = re.sub('[\\W]+', ' ', a)\n",
    "    return b.upper().split()\n",
    "\n",
    "test_line = \"This is an example of that contains 234 and a dash-containing number\"\n",
    "\n",
    "clean_split_line(test_line)"
   ]
  },
  {
   "cell_type": "markdown",
   "id": "b5e951e5",
   "metadata": {},
   "source": [
    "### Q5\n",
    "\n",
    "How many words does `book_43` contain? To answer this question, you may find it useful to apply the function in a spark-fashion. \n",
    "* You can only use operations or actions on RDDs to answer the question. \n",
    "  * Code that uses methods such as `some_rdd.X().Y().Z()...` is allowed\n",
    "  * Code that uses functions such as `some_func(...)` is not allowed\n"
   ]
  },
  {
   "cell_type": "code",
   "execution_count": 7,
   "id": "99c1b93f",
   "metadata": {},
   "outputs": [
    {
     "name": "stdout",
     "output_type": "stream",
     "text": [
      "book_43 contains 29116 words\n"
     ]
    }
   ],
   "source": [
    "### Write your code here\n",
    "\n",
    "book_43_words = book_43.flatMap(clean_split_line)\n",
    "\n",
    "print(f\"book_43 contains {book_43_words.count()} words\")"
   ]
  },
  {
   "cell_type": "markdown",
   "id": "30d62952",
   "metadata": {},
   "source": [
    "### Q6\n",
    "\n",
    "How many of the words in book_43 are unique? Given that words can appear in lower, upper or mixed case (ex. The, THE, the), make sure you convert the words into lower case before counting them.\n"
   ]
  },
  {
   "cell_type": "code",
   "execution_count": 8,
   "id": "07785c77",
   "metadata": {},
   "outputs": [
    {
     "name": "stdout",
     "output_type": "stream",
     "text": [
      "book_43 contains 4296 unique words\n"
     ]
    },
    {
     "name": "stderr",
     "output_type": "stream",
     "text": [
      "\r",
      "[Stage 2:============================================>              (3 + 1) / 4]\r",
      "\r",
      "                                                                                \r"
     ]
    }
   ],
   "source": [
    "### Write your code here\n",
    "\n",
    "lower_case_book_43_words = book_43_words.map(lambda x: x.lower())\n",
    "\n",
    "print(f\"book_43 contains {lower_case_book_43_words.distinct().count()} unique words\")\n"
   ]
  },
  {
   "cell_type": "markdown",
   "id": "91b13b79",
   "metadata": {},
   "source": [
    "### Q7\n",
    "\n",
    "* Generate an `RDD` that contains the frequency of each word in `book_43`. Call the variable `book_43_counts`. Each item in the `RDD` should be a tuple with the word as the first element of the tuple and the count as the second item of the tuple. The collection should look like the following:\n",
    "\n",
    "[('project', 88), (\"the\", 1807), ... ]\n",
    "\n",
    "* Such a collection may contain a large number of words and it would be imprudent to transfer all the words onto the same machine to display it. Instead, to explore the content of such a collection, display only the first element in your list. \n",
    "\n",
    "* Given the random nature of this operation, the first element element displayed may be different. The first entry for me was:\n",
    "```\n",
    "[('project', 88)]\n",
    "```\n",
    "\n",
    "* You can only use operations or actions to answer the question. \n",
    "* Code that uses methods such as `some_rdd.X().Y().Z()...` is allowed\n",
    "* Code that uses functions such as `some_func(...)` is not allowed\n"
   ]
  },
  {
   "cell_type": "code",
   "execution_count": 9,
   "id": "42729b95",
   "metadata": {},
   "outputs": [
    {
     "data": {
      "text/plain": [
       "[('gutenberg', 98)]"
      ]
     },
     "execution_count": 9,
     "metadata": {},
     "output_type": "execute_result"
    }
   ],
   "source": [
    "### Write your code here\n",
    "\n",
    "book_43_counts = book_43.flatMap(clean_split_line).map(lambda x: x.lower()).map(lambda x: (x,1)).reduceByKey(lambda x,y: x+y)\n",
    "book_43_counts.take(1)"
   ]
  },
  {
   "cell_type": "markdown",
   "id": "1ee4534c",
   "metadata": {},
   "source": [
    "### Q8\n",
    "\n",
    "Sort `book_43_counts` and print the 20 most frequent words in book_43. \n",
    "  * Hint: function `sortByKey` sorts a collection of tuples on the first element element of the list. You can easily change the order of the items in each element and use `sortByKey` to sort on the second item of each element in `book_43_counts`\n",
    "  * You can only use operations or actions to answer the question. \n",
    "  * Code that uses methods such as `some_rdd.X().Y().Z()...` is allowed\n",
    "  * Code that uses functions such as `some_func(...)` is not allowed"
   ]
  },
  {
   "cell_type": "code",
   "execution_count": 10,
   "id": "d51b8ea9",
   "metadata": {},
   "outputs": [
    {
     "data": {
      "text/plain": [
       "[(1807, 'the'),\n",
       " (1068, 'of'),\n",
       " (1043, 'and'),\n",
       " (726, 'to'),\n",
       " (686, 'a'),\n",
       " (646, 'i'),\n",
       " (485, 'in'),\n",
       " (471, 'was'),\n",
       " (392, 'that'),\n",
       " (384, 'he'),\n",
       " (378, 'it'),\n",
       " (312, 'you'),\n",
       " (308, 'my'),\n",
       " (301, 'with'),\n",
       " (285, 'his'),\n",
       " (244, 'had'),\n",
       " (203, 'as'),\n",
       " (202, 'for'),\n",
       " (195, 'this'),\n",
       " (193, 'but')]"
      ]
     },
     "execution_count": 10,
     "metadata": {},
     "output_type": "execute_result"
    }
   ],
   "source": [
    "### Write your code here\n",
    "\n",
    "book_43_counts.map(lambda x: (x[1], x[0])).sortByKey(False).take(20)"
   ]
  },
  {
   "cell_type": "markdown",
   "id": "13420b09",
   "metadata": {},
   "source": [
    "### Q9\n",
    "\n",
    "You must have noted that the most frequent words in `book_43_counts` include stop words such as `of`, `the`, `and`, etc.\n",
    "\n",
    "It would be inefficient to compare documents based on whether or not they contain stop words; those are common to all documents. As such, it's common to remove such stop words. The librarary `sklearn.feature_extraction` provides access to a collection of English stop words, which can be loaded using the following snippet:\n",
    "\n",
    "```\n",
    "from sklearn.feature_extraction import stop_words\n",
    "stop_words.ENGLISH_STOP_WORDS\n",
    "```\n",
    "\n",
    "* Explore ENGLISH_STOP_WORDS (it's a frozen set data structure, i.e., a set that you cannot modify) by printing any 10 words from it. \n",
    " * Hint: convert the frozen set to something you can subscript\n"
   ]
  },
  {
   "cell_type": "code",
   "execution_count": 11,
   "id": "0e0ad996",
   "metadata": {},
   "outputs": [
    {
     "data": {
      "text/plain": [
       "['been',\n",
       " 'be',\n",
       " 'than',\n",
       " 'over',\n",
       " 'often',\n",
       " 'throughout',\n",
       " 'fifteen',\n",
       " 'whereafter',\n",
       " 'fire',\n",
       " 'below']"
      ]
     },
     "execution_count": 11,
     "metadata": {},
     "output_type": "execute_result"
    }
   ],
   "source": [
    "### Write your code here\n",
    "\n",
    "from sklearn.feature_extraction import _stop_words as stop_words\n",
    "stop_words.ENGLISH_STOP_WORDS\n",
    "\n",
    "sc.parallelize(stop_words.ENGLISH_STOP_WORDS).take(10)"
   ]
  },
  {
   "cell_type": "markdown",
   "id": "625eb521",
   "metadata": {},
   "source": [
    "### Q10\n",
    "\n",
    "Filter out the words in `book_43_counts` by removing those that appear in the ENGLISH_STOP_WORDS.\n",
    "Save the results to a new variable called `book_43_counts_filtered`\n",
    "  * You can only use operarations or actions on RDDs to answer the question. \n",
    "  * Code that uses methods such as `some_rdd.X().Y().Z()...` is allowed\n",
    "  * Code that uses function such as `some_func(...)` is not allowed\n"
   ]
  },
  {
   "cell_type": "code",
   "execution_count": 12,
   "id": "5602b4ff",
   "metadata": {},
   "outputs": [
    {
     "data": {
      "text/plain": [
       "[('gutenberg', 98),\n",
       " ('robert', 3),\n",
       " ('whatsoever', 2),\n",
       " ('away', 21),\n",
       " ('www', 10),\n",
       " ('check', 4),\n",
       " ('country', 5),\n",
       " ('using', 6),\n",
       " ('set', 34),\n",
       " ('encoding', 1),\n",
       " ('produced', 2),\n",
       " ('widger', 1),\n",
       " ('start', 6),\n",
       " ('contents', 11),\n",
       " ('letter', 16),\n",
       " ('s', 156),\n",
       " ('narrative', 5),\n",
       " ('statement', 3),\n",
       " ('utterson', 131),\n",
       " ('rugged', 1),\n",
       " ('discourse', 1),\n",
       " ('long', 30),\n",
       " ('dusty', 2),\n",
       " ('meetings', 1),\n",
       " ('human', 6),\n",
       " ('beaconed', 1),\n",
       " ('symbols', 1),\n",
       " ('loudly', 2),\n",
       " ('drank', 6),\n",
       " ('gin', 2),\n",
       " ('years', 11),\n",
       " ('pressure', 2),\n",
       " ('inclined', 3),\n",
       " ('used', 12),\n",
       " ('say', 25),\n",
       " ('quaintly', 1),\n",
       " ('let', 16),\n",
       " ('reputable', 2),\n",
       " ('good', 45),\n",
       " ('downgoing', 1),\n",
       " ('came', 35),\n",
       " ('feat', 1),\n",
       " ('best', 6),\n",
       " ('catholicity', 1),\n",
       " ('mark', 4),\n",
       " ('modest', 1),\n",
       " ('opportunity', 2),\n",
       " ('known', 9),\n",
       " ('longest', 1),\n",
       " ('like', 59),\n",
       " ('distant', 1),\n",
       " ('nut', 1),\n",
       " ('subject', 6),\n",
       " ('common', 7),\n",
       " ('looked', 24),\n",
       " ('dull', 1),\n",
       " ('appearance', 7),\n",
       " ('store', 1),\n",
       " ('aside', 3),\n",
       " ('occasions', 1),\n",
       " ('calls', 2),\n",
       " ('business', 16),\n",
       " ('chanced', 4),\n",
       " ('rambles', 1),\n",
       " ('led', 10),\n",
       " ('quarter', 3),\n",
       " ('trade', 1),\n",
       " ('inhabitants', 1),\n",
       " ('shop', 3),\n",
       " ('stood', 14),\n",
       " ('dingy', 3),\n",
       " ('cleanliness', 1),\n",
       " ('pleased', 3),\n",
       " ('east', 1),\n",
       " ('block', 2),\n",
       " ('gable', 1),\n",
       " ('showed', 4),\n",
       " ('storey', 3),\n",
       " ('blistered', 1),\n",
       " ('slouched', 1),\n",
       " ('panels', 2),\n",
       " ('kept', 8),\n",
       " ('steps', 7),\n",
       " ('schoolboy', 2),\n",
       " ('repair', 1),\n",
       " ('abreast', 1),\n",
       " ('pointed', 2),\n",
       " ('companion', 4),\n",
       " ('affirmative', 1),\n",
       " ('mind', 26),\n",
       " ('added', 12),\n",
       " ('asleep', 2),\n",
       " ('till', 7),\n",
       " ('got', 8),\n",
       " ('listens', 2),\n",
       " ('figures', 1),\n",
       " ('walk', 7),\n",
       " ('horrible', 2),\n",
       " ('ground', 5),\n",
       " ('wasn', 1),\n",
       " ('perfectly', 2),\n",
       " ('family', 6),\n",
       " ('sent', 8),\n",
       " ('worse', 8),\n",
       " ('apothecary', 1),\n",
       " ('particular', 6),\n",
       " ('colour', 7),\n",
       " ('emotional', 1),\n",
       " ('turn', 8),\n",
       " ('kill', 1),\n",
       " ('killing', 1),\n",
       " ('question', 6),\n",
       " ('lose', 1),\n",
       " ('hot', 2),\n",
       " ('women', 3),\n",
       " ('wild', 4),\n",
       " ('hateful', 2),\n",
       " ('middle', 7),\n",
       " ('really', 7),\n",
       " ('scene', 2),\n",
       " ('liked', 6),\n",
       " ('money', 5),\n",
       " ('think', 29),\n",
       " ('matter', 4),\n",
       " ('balance', 4),\n",
       " ('cellar', 3),\n",
       " ('cash', 1),\n",
       " ('believe', 8),\n",
       " ('tut', 4),\n",
       " ('feel', 4),\n",
       " ('yes', 18),\n",
       " ('nose', 1),\n",
       " ('capers', 1),\n",
       " ('far', 17),\n",
       " ('vein', 1),\n",
       " ('happen', 1),\n",
       " ('delicacy', 1),\n",
       " ('putting', 2),\n",
       " ('partakes', 1),\n",
       " ('style', 1),\n",
       " ('goes', 4),\n",
       " ('bland', 1),\n",
       " ('bird', 1),\n",
       " ('thought', 39),\n",
       " ('knocked', 4),\n",
       " ('head', 10),\n",
       " ('continued', 7),\n",
       " ('floor', 9),\n",
       " ('packed', 1),\n",
       " ('ends', 1),\n",
       " ('walked', 7),\n",
       " ('harm', 1),\n",
       " ('displeasing', 3),\n",
       " ('right', 15),\n",
       " ('disliked', 1),\n",
       " ('deformed', 1),\n",
       " ('couldn', 1),\n",
       " ('declare', 4),\n",
       " ('consideration', 3),\n",
       " ('sullenness', 1),\n",
       " ('young', 5),\n",
       " ('heart', 11),\n",
       " ('desk', 2),\n",
       " ('opened', 8),\n",
       " ('safe', 7),\n",
       " ('endorsed', 1),\n",
       " ('envelope', 6),\n",
       " ('charge', 7),\n",
       " ('refused', 2),\n",
       " ('making', 2),\n",
       " ('c', 5),\n",
       " ('l', 3),\n",
       " ('r', 1),\n",
       " ('unexplained', 1),\n",
       " ('period', 2),\n",
       " ('months', 9),\n",
       " ('step', 7),\n",
       " ('shoes', 1),\n",
       " ('free', 7),\n",
       " ('burthen', 2),\n",
       " ('immodest', 1),\n",
       " ('insubstantial', 1),\n",
       " ('leaped', 3),\n",
       " ('replaced', 1),\n",
       " ('disgrace', 3),\n",
       " ('blew', 1),\n",
       " ('cavendish', 3),\n",
       " ('crowding', 1),\n",
       " ('patients', 1),\n",
       " ('welcomed', 2),\n",
       " ('stage', 1),\n",
       " ('healthy', 1),\n",
       " ('shock', 2),\n",
       " ('chair', 4),\n",
       " ('school', 2),\n",
       " ('thorough', 2),\n",
       " ('thoroughly', 3),\n",
       " ('preoccupied', 1),\n",
       " ('oldest', 2),\n",
       " ('chuckled', 1),\n",
       " ('unscientific', 1),\n",
       " ('damon', 1),\n",
       " ('spirit', 8),\n",
       " ('scientific', 6),\n",
       " ('tossed', 3),\n",
       " ('hours', 9),\n",
       " ('toiling', 2),\n",
       " ('conveniently', 3),\n",
       " ('dwelling', 1),\n",
       " ('digging', 2),\n",
       " ('touched', 3),\n",
       " ('imagination', 1),\n",
       " ('gross', 2),\n",
       " ('curtained', 1),\n",
       " ('pictures', 1),\n",
       " ('field', 2),\n",
       " ('trod', 1),\n",
       " ('plucked', 2),\n",
       " ('sleeper', 1),\n",
       " ('lo', 1),\n",
       " ('haunted', 1),\n",
       " ('sleeping', 1),\n",
       " ('houses', 4),\n",
       " ('labyrinths', 1),\n",
       " ('leave', 3),\n",
       " ('eyes', 20),\n",
       " ('apace', 1),\n",
       " ('behold', 3),\n",
       " ('altogether', 1),\n",
       " ('examined', 3),\n",
       " ('preference', 1),\n",
       " ('mercy', 3),\n",
       " ('noon', 1),\n",
       " ('frost', 2),\n",
       " ('drawing', 3),\n",
       " ('pattern', 2),\n",
       " ('rumour', 1),\n",
       " ('approach', 2),\n",
       " ('footstep', 1),\n",
       " ('quaint', 3),\n",
       " ('dressed', 5),\n",
       " ('save', 5),\n",
       " ('intake', 1),\n",
       " ('answered', 3),\n",
       " ('coolly', 1),\n",
       " ('gaunt', 2),\n",
       " ('fronted', 1),\n",
       " ('stared', 4),\n",
       " ('_à', 1),\n",
       " ('propos_', 1),\n",
       " ('grunted', 1),\n",
       " ('lied', 1),\n",
       " ('unlocked', 2),\n",
       " ('awhile', 3),\n",
       " ('pausing', 1),\n",
       " ('pale', 8),\n",
       " ('malformation', 1),\n",
       " ('husky', 1),\n",
       " ('unknown', 4),\n",
       " ('regarded', 3),\n",
       " ('perplexed', 1),\n",
       " ('transfigures', 1),\n",
       " ('decayed', 1),\n",
       " ('flats', 1),\n",
       " ('sorts', 1),\n",
       " ('conditions', 1),\n",
       " ('shady', 1),\n",
       " ('wealth', 1),\n",
       " ('plunged', 3),\n",
       " ('stopped', 3),\n",
       " ('comfortable', 2),\n",
       " ('paved', 1),\n",
       " ('flags', 3),\n",
       " ('costly', 1),\n",
       " ('cabinets', 2),\n",
       " ('master', 19),\n",
       " ('repose', 1),\n",
       " ('musingly', 1),\n",
       " ('orders', 5),\n",
       " ('_dines_', 1),\n",
       " ('limitations', 1),\n",
       " ('ghost', 1),\n",
       " ('_pede', 1),\n",
       " ('self', 11),\n",
       " ('condoned', 1),\n",
       " ('fault', 2),\n",
       " ('scared', 1),\n",
       " ('iniquity', 2),\n",
       " ('fairly', 2),\n",
       " ('blameless', 1),\n",
       " ('raised', 4),\n",
       " ('gratitude', 4),\n",
       " ('avoided', 1),\n",
       " ('compared', 2),\n",
       " ('turns', 1),\n",
       " ('creature', 10),\n",
       " ('thief', 1),\n",
       " ('danger', 6),\n",
       " ('existence', 3),\n",
       " ('inherit', 1),\n",
       " ('excellent', 6),\n",
       " ('cronies', 1),\n",
       " ('judges', 1),\n",
       " ('scores', 1),\n",
       " ('hearted', 1),\n",
       " ('unobtrusive', 1),\n",
       " ('expense', 3),\n",
       " ('exception', 1),\n",
       " ('smooth', 1),\n",
       " ('cast', 6),\n",
       " ('wanting', 2),\n",
       " ('distasteful', 2),\n",
       " ('gaily', 1),\n",
       " ('needn', 1),\n",
       " ('mean', 6),\n",
       " ('blatant', 1),\n",
       " ('certainly', 3),\n",
       " ('trifle', 4),\n",
       " ('tell', 12),\n",
       " ('learning', 1),\n",
       " ('lips', 3),\n",
       " ('position', 8),\n",
       " ('situated', 1),\n",
       " ('getting', 1),\n",
       " ('singular', 3),\n",
       " ('notable', 1),\n",
       " ('victim', 7),\n",
       " ('details', 2),\n",
       " ('maid', 9),\n",
       " ('fog', 7),\n",
       " ('rolled', 3),\n",
       " ('overlooked', 2),\n",
       " ('lit', 1),\n",
       " ('narrated', 2),\n",
       " ('speech', 1),\n",
       " ('bowed', 1),\n",
       " ('watch', 3),\n",
       " ('dislike', 2),\n",
       " ('earth', 2),\n",
       " ('ape', 3),\n",
       " ('trampling', 1),\n",
       " ('blows', 1),\n",
       " ('bones', 2),\n",
       " ('audibly', 2),\n",
       " ('shattered', 1),\n",
       " ('sights', 1),\n",
       " ('murderer', 9),\n",
       " ('wood', 2),\n",
       " ('insensate', 2),\n",
       " ('purse', 1),\n",
       " ('cards', 1),\n",
       " ('sealed', 6),\n",
       " ('stamped', 3),\n",
       " ('probably', 2),\n",
       " ('circumstances', 5),\n",
       " ('exclaimed', 1),\n",
       " ('officer', 3),\n",
       " ('briefly', 2),\n",
       " ('quailed', 1),\n",
       " ('particularly', 3),\n",
       " ('continually', 3),\n",
       " ('embattled', 1),\n",
       " ('marvelous', 1),\n",
       " ('degrees', 1),\n",
       " ('conflagration', 1),\n",
       " ('haggard', 1),\n",
       " ('shaft', 1),\n",
       " ('wreaths', 1),\n",
       " ('dismal', 2),\n",
       " ('passengers', 3),\n",
       " ('eating', 1),\n",
       " ('numbers', 1),\n",
       " ('ragged', 1),\n",
       " ('huddled', 2),\n",
       " ('different', 5),\n",
       " ('glass', 15),\n",
       " ('settled', 1),\n",
       " ('umber', 1),\n",
       " ('silvery', 1),\n",
       " ('smoothed', 1),\n",
       " ('impossible', 4),\n",
       " ('yard', 5),\n",
       " ('flash', 1),\n",
       " ('trouble', 2),\n",
       " ('glances', 1),\n",
       " ('silver', 1),\n",
       " ('napery', 1),\n",
       " ('gift', 2),\n",
       " ('agreeable', 1),\n",
       " ('pile', 1),\n",
       " ('embers', 1),\n",
       " ('green', 2),\n",
       " ('book', 6),\n",
       " ('action', 4),\n",
       " ('clinched', 1),\n",
       " ('suspicions', 3),\n",
       " ('thousand', 3),\n",
       " ('lost', 7),\n",
       " ('familiars', 1),\n",
       " ('fugitive', 1),\n",
       " ('afternoon', 1),\n",
       " ('admitted', 2),\n",
       " ('anatomical', 2),\n",
       " ('changed', 8),\n",
       " ('quarters', 1),\n",
       " ('straw', 3),\n",
       " ('fitted', 1),\n",
       " ('barred', 1),\n",
       " ('grate', 2),\n",
       " ('crying', 4),\n",
       " ('bind', 1),\n",
       " ('feverish', 1),\n",
       " ('trial', 1),\n",
       " ('loss', 2),\n",
       " ('wisely', 1),\n",
       " ('exposed', 2),\n",
       " ('placed', 1),\n",
       " ('postmark', 1),\n",
       " ('mouth', 2),\n",
       " ('bye', 1),\n",
       " ('hoarse', 1),\n",
       " ('p', 2),\n",
       " ('funeral', 2),\n",
       " ('sucked', 1),\n",
       " ('eddy', 1),\n",
       " ('decision', 2),\n",
       " ('fished', 1),\n",
       " ('guest', 10),\n",
       " ('dwelt', 1),\n",
       " ('slept', 6),\n",
       " ('sound', 3),\n",
       " ('mighty', 1),\n",
       " ('acids', 1),\n",
       " ('stained', 2),\n",
       " ('draw', 2),\n",
       " ('critic', 1),\n",
       " ('dropping', 2),\n",
       " ('shape', 5),\n",
       " ('passion', 2),\n",
       " ('sedulously', 1),\n",
       " ('interesting', 1),\n",
       " ('identical', 1),\n",
       " ('offered', 1),\n",
       " ('disreputable', 1),\n",
       " ('violent', 1),\n",
       " ('gradually', 2),\n",
       " ('withdrawn', 2),\n",
       " ('entertainer', 1),\n",
       " ('inward', 1),\n",
       " ('consciousness', 5),\n",
       " ('service', 4),\n",
       " ('host', 1),\n",
       " ('days', 13),\n",
       " ('inseparable', 1),\n",
       " ('sixth', 1),\n",
       " ('betook', 1),\n",
       " ('tokens', 1),\n",
       " ('quality', 2),\n",
       " ('seated', 2),\n",
       " ('tempted', 5),\n",
       " ('firmness', 1),\n",
       " ('weeks', 1),\n",
       " ('spare', 2),\n",
       " ('accursed', 2),\n",
       " ('unhappy', 5),\n",
       " ('amazed', 2),\n",
       " ('tasks', 1),\n",
       " ('cheerful', 1),\n",
       " ('deeper', 3),\n",
       " ('melancholy', 1),\n",
       " ('seal', 4),\n",
       " ('g', 1),\n",
       " ('predecease', 1),\n",
       " ('_to', 1),\n",
       " ('destroyed', 5),\n",
       " ('unread_', 1),\n",
       " ('enclosure', 2),\n",
       " ('idea', 3),\n",
       " ('bracketted', 1),\n",
       " ('disregard', 1),\n",
       " ('faith', 1),\n",
       " ('doubted', 1),\n",
       " ('voluntary', 2),\n",
       " ('inscrutable', 1),\n",
       " ('communicate', 1),\n",
       " ('presence', 4),\n",
       " ('damp', 1),\n",
       " ('overhead', 2),\n",
       " ('sunset', 1),\n",
       " ('infinite', 2),\n",
       " ('indoors', 1),\n",
       " ('circulation', 1),\n",
       " ('hat', 3),\n",
       " ('quick', 3),\n",
       " ('dare', 1),\n",
       " ('naturedly', 1),\n",
       " ('uttered', 2),\n",
       " ('abject', 1),\n",
       " ('stirrings', 1),\n",
       " ('seriously', 3),\n",
       " ('doggedly', 1),\n",
       " ('untasted', 2),\n",
       " ('wonder', 6),\n",
       " ('seasonable', 1),\n",
       " ('flying', 2),\n",
       " ('crushing', 2),\n",
       " ('calamity', 2),\n",
       " ('lashing', 1),\n",
       " ('biting', 2),\n",
       " ('weather', 1),\n",
       " ('anguish', 1),\n",
       " ('chain', 1),\n",
       " ('sheep', 1),\n",
       " ('whimpering', 1),\n",
       " ('wept', 2),\n",
       " ('lamentation', 1),\n",
       " ('dreadful', 3),\n",
       " ('gently', 2),\n",
       " ('unlooked', 1),\n",
       " ('termination', 1),\n",
       " ('jerk', 1),\n",
       " ('surgical', 2),\n",
       " ('lumber', 2),\n",
       " ('bottles', 1),\n",
       " ('uncertain', 1),\n",
       " ('deceived', 2),\n",
       " ('_why_', 1),\n",
       " ('cries', 2),\n",
       " ('finger', 2),\n",
       " ('murdered', 1),\n",
       " ('water', 1),\n",
       " ('sheet', 4),\n",
       " ('throw', 3),\n",
       " ('smuggled', 1),\n",
       " ('thrice', 1),\n",
       " ('chemists', 2),\n",
       " ('crumpled', 1),\n",
       " ('maw', 2),\n",
       " ('splutter', 1),\n",
       " ('matters', 1),\n",
       " ('mask', 3),\n",
       " ('served', 1),\n",
       " ('paused', 4),\n",
       " ('sufferer', 1),\n",
       " ('alteration', 3),\n",
       " ('exorbitant', 1),\n",
       " ('mottled', 1),\n",
       " ('pallor', 2),\n",
       " ('belief', 2),\n",
       " ('undaunted', 1),\n",
       " ('weighty', 1),\n",
       " ('peril', 1),\n",
       " ('frank', 1),\n",
       " ('bible', 1),\n",
       " ('connection', 1),\n",
       " ('killed', 1),\n",
       " ('broad', 1),\n",
       " ('malefactor', 2),\n",
       " ('sticks', 1),\n",
       " ('scud', 1),\n",
       " ('draughts', 1),\n",
       " ('hummed', 1),\n",
       " ('chemist', 2),\n",
       " ('hark', 1),\n",
       " ('ears', 1),\n",
       " ('demand', 2),\n",
       " ('swung', 1),\n",
       " ('crashed', 1),\n",
       " ('frame', 2),\n",
       " ('fittings', 1),\n",
       " ('burst', 1),\n",
       " ('neatly', 2),\n",
       " ('quietest', 1),\n",
       " ('glazed', 3),\n",
       " ('contorted', 1),\n",
       " ('semblance', 2),\n",
       " ('phial', 4),\n",
       " ('smell', 2),\n",
       " ('destroyer', 1),\n",
       " ('punish', 1),\n",
       " ('formed', 1),\n",
       " ('corridor', 2),\n",
       " ('joined', 2),\n",
       " ('crazy', 1),\n",
       " ('perfect', 1),\n",
       " ('hearkening', 2),\n",
       " ('fractures', 1),\n",
       " ('rusty', 1),\n",
       " ('occasional', 1),\n",
       " ('awestruck', 1),\n",
       " ('traces', 1),\n",
       " ('work', 49),\n",
       " ('salt', 6),\n",
       " ('prevented', 2),\n",
       " ('elbow', 1),\n",
       " ('cup', 3),\n",
       " ('pious', 2),\n",
       " ('annotated', 1),\n",
       " ('searchers', 1),\n",
       " ('involuntary', 1),\n",
       " ('surely', 1),\n",
       " ('conquering', 1),\n",
       " ('serve', 3),\n",
       " ('testament', 1),\n",
       " ('gabriel', 1),\n",
       " ('john', 1),\n",
       " ('short', 3),\n",
       " ('space', 2),\n",
       " ('careful', 1),\n",
       " ('catastrophe', 1),\n",
       " ('follows', 2),\n",
       " ('situation', 2),\n",
       " ('confession', 4),\n",
       " ('documents', 1),\n",
       " ('send', 2),\n",
       " ('delivery', 1),\n",
       " ('intercourse', 1),\n",
       " ('justify', 1),\n",
       " ('december_', 1),\n",
       " ('preface', 1),\n",
       " ('postpone', 1),\n",
       " ('waiting', 1),\n",
       " ('_with', 1),\n",
       " ('distress', 5),\n",
       " ('powders', 4),\n",
       " ('exactly', 1),\n",
       " ('consulting', 2),\n",
       " ('earned', 1),\n",
       " ('insist', 1),\n",
       " ('arrangements', 1),\n",
       " ('possibility', 4),\n",
       " ('exaggerate', 1),\n",
       " ('punctually', 1),\n",
       " ('morrow', 1),\n",
       " ('convenient', 1),\n",
       " ('proved', 1),\n",
       " ('rose', 3),\n",
       " ('carpenter', 2),\n",
       " ('handy', 1),\n",
       " ('tied', 1),\n",
       " ('dispensing', 1),\n",
       " ('ingredients', 1),\n",
       " ('dates', 1),\n",
       " ('appended', 1),\n",
       " ('record', 1),\n",
       " ('investigations', 1),\n",
       " ('granting', 1),\n",
       " ('impediment', 1),\n",
       " ('convinced', 1),\n",
       " ('rung', 1),\n",
       " ('enter', 4),\n",
       " ('confess', 1),\n",
       " ('weapon', 1),\n",
       " ('caused', 1),\n",
       " ('incipient', 1),\n",
       " ('acuteness', 2),\n",
       " ('laughable', 1),\n",
       " ('measurement', 1),\n",
       " ('waist', 1),\n",
       " ('accoutrement', 1),\n",
       " ('abnormal', 1),\n",
       " ('essence', 1),\n",
       " ('reinforce', 1),\n",
       " ('origin', 1),\n",
       " ('excitement', 1),\n",
       " ('icy', 2),\n",
       " ('lateness', 1),\n",
       " ('preoccupations', 1),\n",
       " ('civilly', 1),\n",
       " ('throat', 1),\n",
       " ('wrestling', 1),\n",
       " ('approaches', 1),\n",
       " ('sob', 1),\n",
       " ('thanked', 1),\n",
       " ('hue', 1),\n",
       " ('vapour', 1),\n",
       " ('compound', 4),\n",
       " ('watery', 1),\n",
       " ('keen', 1),\n",
       " ('guided', 1),\n",
       " ('parley', 1),\n",
       " ('greed', 1),\n",
       " ('command', 1),\n",
       " ('affecting', 1),\n",
       " ('transcendental', 2),\n",
       " ('gulp', 1),\n",
       " ('reeled', 1),\n",
       " ('melt', 1),\n",
       " ('shield', 1),\n",
       " ('sits', 1),\n",
       " ('penitence', 4),\n",
       " ('hunted', 3),\n",
       " ('happiness', 1),\n",
       " ('wear', 2),\n",
       " ('exacting', 1),\n",
       " ('springs', 1),\n",
       " ('earnest', 1),\n",
       " ('laboured', 2),\n",
       " ('steadily', 1),\n",
       " ('outstrip', 1),\n",
       " ('multifarious', 1),\n",
       " ('contended', 1),\n",
       " ('suggest', 1),\n",
       " ('naked', 1),\n",
       " ('beloved', 2),\n",
       " ('separation', 1),\n",
       " ('identities', 1),\n",
       " ('continuously', 1),\n",
       " ('seemingly', 2),\n",
       " ('attired', 2),\n",
       " ('fleshly', 1),\n",
       " ('vestment', 1),\n",
       " ('toss', 1),\n",
       " ('attempt', 1),\n",
       " ('returns', 2),\n",
       " ('alas', 2),\n",
       " ('managed', 1),\n",
       " ('potently', 1),\n",
       " ('identity', 2),\n",
       " ('exhibition', 1),\n",
       " ('blot', 1),\n",
       " ('temptation', 2),\n",
       " ('prepared', 2),\n",
       " ('heady', 1),\n",
       " ('recklessness', 1),\n",
       " ('current', 2),\n",
       " ('disordered', 1),\n",
       " ('millrace', 1),\n",
       " ('mirror', 4),\n",
       " ('conception', 1),\n",
       " ('determined', 1),\n",
       " ('constellations', 1),\n",
       " ('unsleeping', 1),\n",
       " ('transferred', 2),\n",
       " ('developed', 1),\n",
       " ('deposed', 2),\n",
       " ('exhausted', 1),\n",
       " ('livelier', 1),\n",
       " ('visible', 1),\n",
       " ('beings', 1),\n",
       " ('commingled', 1),\n",
       " ('fatal', 1),\n",
       " ('prisonhouse', 1),\n",
       " ('philippi', 1),\n",
       " ('awake', 1),\n",
       " ('alert', 1),\n",
       " ('seize', 1),\n",
       " ('occasion', 3),\n",
       " ('projected', 2),\n",
       " ('appearances', 1),\n",
       " ('improvement', 1),\n",
       " ('undignified', 2),\n",
       " ('considered', 2),\n",
       " ('doff', 1),\n",
       " ('cloak', 1),\n",
       " ('notion', 1),\n",
       " ('parry', 1),\n",
       " ('befell', 1),\n",
       " ('plod', 1),\n",
       " ('genial', 1),\n",
       " ('lendings', 1),\n",
       " ('sea', 2),\n",
       " ('impenetrable', 1),\n",
       " ('afford', 1),\n",
       " ('depravity', 1),\n",
       " ('centered', 1),\n",
       " ('relentless', 1),\n",
       " ('connived', 1),\n",
       " ('design', 2),\n",
       " ('passer', 1),\n",
       " ('feared', 2),\n",
       " ('pay', 2),\n",
       " ('decent', 1),\n",
       " ('furniture', 1),\n",
       " ('mahogany', 1),\n",
       " ('illusion', 1),\n",
       " ('doze', 1),\n",
       " ('size', 2),\n",
       " ('swart', 1),\n",
       " ('rushed', 1),\n",
       " ('remedied', 1),\n",
       " ('sweetness', 1),\n",
       " ('breakfasting', 1),\n",
       " ('spelling', 1),\n",
       " ('letters', 3),\n",
       " ('issues', 1),\n",
       " ('permanently', 1),\n",
       " ('overthrown', 1),\n",
       " ('totally', 1),\n",
       " ('risk', 1),\n",
       " ('treble', 1),\n",
       " ('sole', 1),\n",
       " ('sensitive', 1),\n",
       " ('apprehensions', 1),\n",
       " ('gusto', 1),\n",
       " ('pursuit', 1),\n",
       " ('interests', 1),\n",
       " ('despised', 1),\n",
       " ('scales', 1),\n",
       " ('smartingly', 1),\n",
       " ('fires', 1),\n",
       " ('abstinence', 1),\n",
       " ('falls', 1),\n",
       " ('farewell', 1),\n",
       " ('unconscious', 1),\n",
       " ('determination', 1),\n",
       " ('compensations', 1),\n",
       " ('approving', 1),\n",
       " ('longings', 1),\n",
       " ('drunkard', 1),\n",
       " ('leading', 1),\n",
       " ('punished', 1),\n",
       " ('furious', 1),\n",
       " ('propensity', 1),\n",
       " ('civilities', 1),\n",
       " ('morally', 1),\n",
       " ('balancing', 1),\n",
       " ('instincts', 1),\n",
       " ('continues', 1),\n",
       " ('delight', 1),\n",
       " ('excesses', 1),\n",
       " ('gratified', 1),\n",
       " ('topmost', 1),\n",
       " ('assurance', 1),\n",
       " ('doubly', 1),\n",
       " ('lamplit', 1),\n",
       " ('devising', 1),\n",
       " ('knees', 1),\n",
       " ('clasped', 1),\n",
       " ('childhood', 1),\n",
       " ('denying', 1),\n",
       " ('horrors', 1),\n",
       " ('prayers', 1),\n",
       " ('swarmed', 1),\n",
       " ('willing', 1),\n",
       " ('guilt', 1),\n",
       " ('peep', 1),\n",
       " ('slay', 1),\n",
       " ('redeem', 1),\n",
       " ('dreamed', 1),\n",
       " ('assaults', 1),\n",
       " ('measure', 1),\n",
       " ('condescension', 1),\n",
       " ('wet', 1),\n",
       " ('sun', 1),\n",
       " ('chops', 1),\n",
       " ('drowsed', 1),\n",
       " ('subsequent', 1),\n",
       " ('neighbours', 1),\n",
       " ('active', 3),\n",
       " ('shrunken', 1),\n",
       " ('quarry', 1),\n",
       " ('houseless', 1),\n",
       " ('gallows', 4),\n",
       " ('wavered', 1),\n",
       " ('elastic', 1),\n",
       " ('succumbed', 1),\n",
       " ('solve', 1),\n",
       " ('rifle', 1),\n",
       " ('portland', 1),\n",
       " ('dragged', 1),\n",
       " ('inn', 1),\n",
       " ('actual', 2),\n",
       " ('nails', 1),\n",
       " ('quailing', 1),\n",
       " ('misfitting', 1),\n",
       " ('midst', 1),\n",
       " ('frequented', 1),\n",
       " ('thoroughfares', 1),\n",
       " ('counting', 1),\n",
       " ('offering', 1),\n",
       " ('prostration', 1),\n",
       " ('nightmares', 1),\n",
       " ('refreshed', 1),\n",
       " ('leisurely', 1),\n",
       " ('freezing', 1),\n",
       " ('gymnastics', 1),\n",
       " ('immediate', 3),\n",
       " ('impending', 1),\n",
       " ('sleeplessness', 1),\n",
       " ('emptied', 1),\n",
       " ('fever', 1),\n",
       " ('solely', 1),\n",
       " ('brimming', 1),\n",
       " ('vital', 1),\n",
       " ('phenomena', 1),\n",
       " ('community', 1),\n",
       " ('poignant', 1),\n",
       " ('pit', 1),\n",
       " ('utter', 1),\n",
       " ('usurp', 1),\n",
       " ('subordinate', 1),\n",
       " ('destroying', 1),\n",
       " ('ruin', 1),\n",
       " ('wonderful', 2),\n",
       " ('freeze', 1),\n",
       " ('abjection', 1),\n",
       " ('suffice', 1),\n",
       " ('callousness', 1),\n",
       " ('acquiescence', 1),\n",
       " ('provision', 2),\n",
       " ('finishing', 1),\n",
       " ('destruction', 1),\n",
       " ('circumscription', 1),\n",
       " ('personality', 1),\n",
       " ('listening', 1),\n",
       " ('earthly', 1),\n",
       " ('concerns', 1),\n",
       " ('proceed', 1),\n",
       " ('files', 2),\n",
       " ('formats', 2),\n",
       " ('https', 1),\n",
       " ('copyright', 20),\n",
       " ('owns', 2),\n",
       " ('copying', 4),\n",
       " ('complying', 3),\n",
       " ('research', 2),\n",
       " ('redistribution', 2),\n",
       " ('especially', 1),\n",
       " ('commercial', 1),\n",
       " ('promoting', 2),\n",
       " ('distribution', 6),\n",
       " ('comply', 6),\n",
       " ('indicate', 1),\n",
       " ('agreement', 18),\n",
       " ('entity', 3),\n",
       " ('paragraph', 11),\n",
       " ('b', 2),\n",
       " ('archive', 13),\n",
       " ('individual', 4),\n",
       " ('references', 2),\n",
       " ('freely', 4),\n",
       " ('sharing', 1),\n",
       " ('format', 4),\n",
       " ('downloading', 1),\n",
       " ('appears', 1),\n",
       " ('accessed', 1),\n",
       " ('copied', 2),\n",
       " ('derived', 1),\n",
       " ('texts', 1),\n",
       " ('charges', 1),\n",
       " ('requirements', 4),\n",
       " ('additional', 3),\n",
       " ('remove', 1),\n",
       " ('perform', 1),\n",
       " ('binary', 1),\n",
       " ('proprietary', 1),\n",
       " ('provide', 7),\n",
       " ('vanilla', 2),\n",
       " ('official', 3),\n",
       " ('include', 1),\n",
       " ('derive', 1),\n",
       " ('owner', 4),\n",
       " ('prepare', 2),\n",
       " ('manager', 1),\n",
       " ('expend', 1),\n",
       " ('identify', 1),\n",
       " ('stored', 1),\n",
       " ('transcription', 1),\n",
       " ('errors', 1),\n",
       " ('equipment', 3),\n",
       " ('remedies', 1),\n",
       " ('breach', 2),\n",
       " ('indirect', 1),\n",
       " ('lieu', 2),\n",
       " ('electronically', 2),\n",
       " ('disclaimers', 1),\n",
       " ('interpreted', 1),\n",
       " ('unenforceability', 1),\n",
       " ('remaining', 1),\n",
       " ('agent', 1),\n",
       " ('production', 1),\n",
       " ('promotion', 1),\n",
       " ('arise', 1),\n",
       " ('indirectly', 1),\n",
       " ('modification', 1),\n",
       " ('additions', 1),\n",
       " ('deletions', 1),\n",
       " ('computers', 2),\n",
       " ('obsolete', 1),\n",
       " ('reaching', 1),\n",
       " ('page', 2),\n",
       " ('exempt', 2),\n",
       " ('ein', 1),\n",
       " ('depends', 1),\n",
       " ('widespread', 1),\n",
       " ('machine', 1),\n",
       " ('maintaining', 1),\n",
       " ('confirmation', 1),\n",
       " ('accepting', 1),\n",
       " ('offers', 1),\n",
       " ('staff', 1),\n",
       " ('card', 1),\n",
       " ('michael', 1),\n",
       " ('library', 1),\n",
       " ('network', 1),\n",
       " ('produce', 1),\n",
       " ('subscribe', 1),\n",
       " ('dr', 49),\n",
       " ('louis', 3),\n",
       " ...]"
      ]
     },
     "execution_count": 12,
     "metadata": {},
     "output_type": "execute_result"
    }
   ],
   "source": [
    "### Write your code here\n",
    "\n",
    "book_43_counts_filtered = book_43_counts.filter(lambda x: x[0] not in stop_words.ENGLISH_STOP_WORDS)\n",
    "book_43_counts_filtered.map(lambda x: (x[1], x[0])).sortByKey(False)\n",
    "book_43_counts_filtered.collect()"
   ]
  },
  {
   "cell_type": "markdown",
   "id": "3d0b3a80",
   "metadata": {},
   "source": [
    "### Q11\n",
    "\n",
    "* How many words are left in `book_43_counts_filtered` after removing the stop words"
   ]
  },
  {
   "cell_type": "code",
   "execution_count": 13,
   "id": "a5bdf083",
   "metadata": {},
   "outputs": [
    {
     "name": "stdout",
     "output_type": "stream",
     "text": [
      "book_43_counts_filtered contains 4034 words after removing stop words\n"
     ]
    }
   ],
   "source": [
    "### Write your code here\n",
    "\n",
    "book_43_counts_filtered.count()\n",
    "\n",
    "print(f\"book_43_counts_filtered contains {book_43_counts_filtered.count()} words after removing stop words\")"
   ]
  },
  {
   "cell_type": "markdown",
   "id": "23ffd755",
   "metadata": {},
   "source": [
    "### Q12 \n",
    "\n",
    "* Create a function called *process_RDD* that combines the relevant steps you proposed above to make it convenient to apply them to the remaining four books. Your function should accept an input text file path and:\n",
    " * Reads in the file as a textRDD\n",
    " * Cleans and splits the line using `clean_split_line`\n",
    " * Filters out the stop words\n",
    " * Returns a word count RDD where each item is a tuple of words and its count.\n",
    " \n"
   ]
  },
  {
   "cell_type": "code",
   "execution_count": 14,
   "id": "eff5d5e8",
   "metadata": {},
   "outputs": [],
   "source": [
    "### Write your code here\n",
    "\n",
    "def process_RDD(text):\n",
    "    text_rdd = sc.textFile(text, minPartitions=4)\n",
    "    text_rdd_words = text_rdd.flatMap(clean_split_line)\n",
    "    lower_case_text_rdd_words = text_rdd_words.map(lambda x: x.lower())\n",
    "    text_rdd_counts = lower_case_text_rdd_words.map(lambda x: (x,1)).reduceByKey(lambda x,y: x+y)\n",
    "    text_rdd_counts_filtered = text_rdd_counts.filter(lambda x: x[0] not in stop_words.ENGLISH_STOP_WORDS)\n",
    "    word_count_rdd = text_rdd_counts_filtered.map(lambda x: (x[1], x[0])).sortByKey(False).collect()\n",
    "    return sc.parallelize(word_count_rdd)"
   ]
  },
  {
   "cell_type": "markdown",
   "id": "ba59c9c5",
   "metadata": {},
   "source": [
    "### Q13 \n",
    "\n",
    "Apply the function `process_RDD` to `book_84`, `book_398` and `book_3296` and save the results to variables `book_84_counts_filtered`, `book_398_counts_filtered` and `book_3296_counts_filtered` respectively. How many distinct words does each book contain after filtering the stop words.\n"
   ]
  },
  {
   "cell_type": "code",
   "execution_count": 15,
   "id": "08a24f66",
   "metadata": {},
   "outputs": [
    {
     "name": "stdout",
     "output_type": "stream",
     "text": [
      "book_84 word counts\n",
      "7016\n",
      "-----------------------------------------------------------------------------\n",
      "\n",
      "book_398 word counts\n",
      "2421\n",
      "-----------------------------------------------------------------------------\n",
      "\n",
      "book_3296 word counts\n",
      "7293\n"
     ]
    }
   ],
   "source": [
    "### Write your code here\n",
    "\n",
    "book_84_counts_filtered = process_RDD('data/84.txt')\n",
    "book_398_counts_filtered = process_RDD('data/398.txt')\n",
    "book_3296_counts_filtered = process_RDD('data/3296.txt')\n",
    "\n",
    "print(\"book_84 word counts\")\n",
    "print(book_84_counts_filtered.count())\n",
    "print(\"-----------------------------------------------------------------------------\\n\")\n",
    "print(\"book_398 word counts\")\n",
    "print(book_398_counts_filtered.count())\n",
    "print(\"-----------------------------------------------------------------------------\\n\")\n",
    "print(\"book_3296 word counts\")\n",
    "print(book_3296_counts_filtered.count())"
   ]
  },
  {
   "cell_type": "markdown",
   "id": "7fb9680f",
   "metadata": {},
   "source": [
    "### Q14 \n",
    "\n",
    "We discussed how to evaluate similarity between two texts using the number of words they share. We hypothesized that books that are similar should have more words in common than books that are dissimilar. If that holds, `book_398` and `book_3296`, which both pertain to religion, will have more words in common than, say, `book_84` and `book_398`. Test this hypothesis by writing code that compares and prints the number of words shared between `book_398` and `book_3296` and then between `book_84` and `book_398`.\n"
   ]
  },
  {
   "cell_type": "code",
   "execution_count": 16,
   "id": "ac6b73e0",
   "metadata": {},
   "outputs": [
    {
     "name": "stderr",
     "output_type": "stream",
     "text": [
      "                                                                                \r"
     ]
    },
    {
     "name": "stdout",
     "output_type": "stream",
     "text": [
      "Books 398 and 3296 share 1790 words together\n",
      "Books 84 and 398 share 1691 words together\n"
     ]
    }
   ],
   "source": [
    "### Write your code here\n",
    "\n",
    "def unique_words(text):\n",
    "    text_rdd = sc.textFile(text, minPartitions=4)\n",
    "    text_rdd_words = text_rdd.flatMap(clean_split_line)\n",
    "    lower_text_rdd_words = text_rdd_words.map(lambda x: x.lower())\n",
    "    lower_text_rdd_words_filtered = lower_text_rdd_words.filter(lambda x: x not in stop_words.ENGLISH_STOP_WORDS)\n",
    "    return lower_text_rdd_words_filtered.distinct()\n",
    "\n",
    "book_84_words_filtered = unique_words('data/84.txt')\n",
    "book_398_words_filtered = unique_words('data/398.txt')\n",
    "book_3296_words_filtered = unique_words('data/3296.txt')\n",
    "\n",
    "book_398_3296_intersect_count = book_398_words_filtered.intersection(book_3296_words_filtered).count()\n",
    "book_84_398_intersect_count = book_84_words_filtered.intersection(book_398_words_filtered).count()\n",
    "\n",
    "print(f\"Books 398 and 3296 share {book_398_3296_intersect_count} words together\")\n",
    "\n",
    "print(f\"Books 84 and 398 share {book_84_398_intersect_count} words together\")\n"
   ]
  },
  {
   "cell_type": "markdown",
   "id": "cef9f326",
   "metadata": {},
   "source": [
    "### Q15\n",
    "\n",
    "* Based on the above, do you think counting the number of shared words is a good idea as a distance metric for evaluating topic similarity? Justify your answer?\n",
    "* Hint: What do *book_84* and *book_3296* have in common? "
   ]
  },
  {
   "cell_type": "markdown",
   "id": "6587ae14",
   "metadata": {},
   "source": [
    "#### Write your answer here\n",
    "\n",
    "No, based on the above, it does not appear that counting the number of shared words is a good idea as a distance metric for evaluating topic similarity. Even if there is sometimes domain specific vocabulary, there will almost certainly still be a significant overlap in words even if they are not stop words. Book 84 (Frankenstein) and 3296 (Confessions of Saint Augustine) were supposedly written over a 1000 years apart from one another and are very different genres/topics, but once written in English they will share vocabulary in dialogue, world building, monologuing, pleads to God (which may be something specific these both have in common), etc.\n",
    "\n",
    "More importantly (and more obviously) books 84 and 3296 both have similar word counts meaning there is a greater chance for overlap of vocab between the two. Book 398 has roughly a third of their word lengths so there are fewer chances for overlapping vocabulary. Even if 398 and 3296 should be more similar, the word counts becoming a deceiving metric for similarity if word counts are very different."
   ]
  },
  {
   "cell_type": "markdown",
   "id": "a6f8f857",
   "metadata": {},
   "source": [
    "## Part II \n",
    "\n",
    "Another approach to estimating similarity consists of computing the Euclidean distance across a set of words. For example, suppose we have 3 documents A, B and C with the following counts for the words `evolution`, `DNA`, `biology` and `finance`. \n",
    "\n",
    "```python \n",
    "A = [4, 9, 6, 8]\n",
    "B = [3, 7, 7, 10]\n",
    "C = [15, 10, 1, 1]\n",
    "```\n",
    "Although all documents contain exactly the four words, the number of times these words appear in each book may be indicative of thier topic. For example, documents `A` and `B` are more likely to be business related since they contain the word `finance` more frequently (8 and 10 times respectively). Document `C` may be a technical document since it focuses on more technical words (`evolution` and `DNA`) and less on the words `finance`.\n",
    "\n",
    "The Euclidean distance, which can be computed using the `scikit` snippet below, is more indicative of topic-relatedness between the two documents.\n",
    "\n",
    "```python\n",
    "from scipy.spatial.distance import euclidean \n",
    "print(f\"The Euclidean distance between A and B is: {euclidean(A, B)}\")\n",
    "\n",
    "print(f\"The Euclidean distance between A and C is: {euclidean(A, C)}\")\n",
    "\n",
    "print(f\"The Euclidean distance between B and C is: {euclidean(B, C)}\")\n",
    "```\n"
   ]
  },
  {
   "cell_type": "markdown",
   "id": "9abdc35e",
   "metadata": {},
   "source": [
    "### Q16\n",
    "\n",
    "To calculate the Euclidean distance, we must first identify the set of words by which we will compare the documents. Here, we will explore the words that are common to all 4 documents. We will store the data in a matrix called `counts_matrix`.\n",
    "\n",
    "Start by finding the words that are common to all four documents after stop-word filtering and store the counts for each word in a column of `counts_matrix`. \n",
    "\n",
    "To take the previous example, you can generate an emtpy matrix with 3 lines (documents `A`, `B` and `C`) and 4 columns (words `evolution`, `DNA`, `biology` and `finance`) using the following code.\n",
    "\n",
    "```python\n",
    "import numpy as np\n",
    "counts_matrix = np.zeros([3,4])\n",
    "```\n",
    "\n",
    "After generting the counts, you can fill the counts for a document, say `A`, using the following code:\n",
    "\n",
    "```python\n",
    "counts_matrix[0, :] = [4, 9, 6, 8] \n",
    "```\n",
    "* Other than for building `counts_matrix` you should exclusively use operations or actions on the `RDD` to answer this question. \n",
    "  * Code that uses methods such as `some_rdd.X().Y().Z()...` is allowed\n",
    "  * Code that uses functions such as `some_func(...)` is not allowed\n"
   ]
  },
  {
   "cell_type": "code",
   "execution_count": 17,
   "id": "f30c287f",
   "metadata": {},
   "outputs": [],
   "source": [
    "def intersection_words(text, intersecting_words):\n",
    "    text_rdd = sc.textFile(text, minPartitions=4)\n",
    "    text_rdd_words = text_rdd.flatMap(clean_split_line)\n",
    "    lower_case_text_rdd_words = text_rdd_words.map(lambda x: x.lower())\n",
    "    text_rdd_counts = lower_case_text_rdd_words.map(lambda x: (x,1)).reduceByKey(lambda x,y: x+y)\n",
    "    text_rdd_counts_filtered = text_rdd_counts.filter(lambda x: x[0] in intersecting_words)\n",
    "    word_count_rdd = text_rdd_counts_filtered.map(lambda x: (x[1], x[0])).sortByKey(False).collect()\n",
    "    return sc.parallelize(word_count_rdd)"
   ]
  },
  {
   "cell_type": "code",
   "execution_count": 18,
   "id": "1a7129f5",
   "metadata": {},
   "outputs": [
    {
     "name": "stderr",
     "output_type": "stream",
     "text": [
      "                                                                                \r"
     ]
    },
    {
     "name": "stdout",
     "output_type": "stream",
     "text": [
      "[[156. 137. 499. 553.]\n",
      " [130. 133. 262. 510.]\n",
      " [ 98. 119. 185. 302.]\n",
      " ...\n",
      " [  1.   1.   1.   1.]\n",
      " [  1.   1.   1.   1.]\n",
      " [  1.   1.   1.   1.]]\n"
     ]
    }
   ],
   "source": [
    "import numpy as np\n",
    "\n",
    "book_43_words_filtered = unique_words('data/43.txt')\n",
    "\n",
    "\n",
    "book_398_3296_intersect = book_398_words_filtered.intersection(book_3296_words_filtered)\n",
    "book_84_398_intersect = book_84_words_filtered.intersection(book_398_words_filtered)\n",
    "\n",
    "intersect_words_84_398_3296 = book_398_3296_intersect.intersection(book_84_398_intersect)\n",
    "all_intersect_words = book_43_words_filtered.intersection(intersect_words_84_398_3296)\n",
    "\n",
    "counts_matrix = np.zeros([all_intersect_words.count(), 4])\n",
    "\n",
    "book_43_multi_intersect_count = intersection_words('data/43.txt', all_intersect_words.collect())\n",
    "book_84_multi_intersect_count = intersection_words('data/84.txt', all_intersect_words.collect())\n",
    "book_398_multi_intersect_count = intersection_words('data/398.txt', all_intersect_words.collect())\n",
    "book_3296_multi_intersect_count = intersection_words('data/3296.txt', all_intersect_words.collect())\n",
    "\n",
    "\n",
    "counts_matrix[:, 0] = book_43_multi_intersect_count.map(lambda x: x[0]).collect()\n",
    "counts_matrix[:, 1] = book_84_multi_intersect_count.map(lambda x: x[0]).collect()\n",
    "counts_matrix[:, 2] = book_398_multi_intersect_count.map(lambda x: x[0]).collect()\n",
    "counts_matrix[:, 3] = book_3296_multi_intersect_count.map(lambda x: x[0]).collect()\n",
    "\n",
    "print(counts_matrix)"
   ]
  },
  {
   "cell_type": "markdown",
   "id": "124bcdd8",
   "metadata": {},
   "source": [
    "### Q17\n",
    "\n",
    "Compute the Euclidean distance between `book_398` and `book_3296`, which both talk about religion and `book_84` and `book_398`. What do you conclude about using the Euclidean distance for evaluating topic relatedness across documents?\n"
   ]
  },
  {
   "cell_type": "code",
   "execution_count": 19,
   "id": "7b6a81dd",
   "metadata": {},
   "outputs": [
    {
     "name": "stdout",
     "output_type": "stream",
     "text": [
      "The Euclidean distance between book_398 and book_3296 is 765.3868303021682\n",
      "The Euclidean distance between book_84 and book_398 is 448.24546846566113\n"
     ]
    }
   ],
   "source": [
    "### Write your code here\n",
    "from scipy.spatial import distance\n",
    "\n",
    "euclidean_distance_398_3296 = distance.euclidean(counts_matrix[:, 2], counts_matrix[:, 3])\n",
    "euclidean_distance_84_398 = distance.euclidean(counts_matrix[:, 1], counts_matrix[:, 2])\n",
    "\n",
    "print(f\"The Euclidean distance between book_398 and book_3296 is {euclidean_distance_398_3296}\")\n",
    "print(f\"The Euclidean distance between book_84 and book_398 is {euclidean_distance_84_398}\")"
   ]
  },
  {
   "cell_type": "markdown",
   "id": "89981b46",
   "metadata": {},
   "source": [
    "#### Write your justification here\n",
    "\n",
    "The results from taking the Euclidean distances for evaluating similarity are not what I expected. By comparing all books via the intersection of words between all four books, it worked around the problem with similarity via word count. With that in mind, I expected Euclidean distance to accurately reflect similarity between two books when measured by this intersection of words between all books. However, books 398 and 3296 which both talk about religion are further apart in projected space than books 84 and 398 are. This is surprising and assuming my numbers/calculations are correct, it shows the Euclidean distance may not be an accurate means for evaluating topic relatedness across documents. At the very least, it does not work as we have used it. Perhaps further filtering the intersection of words by adding book_43 into the mix skewed our results. We did not compare book_43 with the other books, so I do not see why we took it into consideration when identifying similarity between the other three books. By adding book_43 and further filtering the words, we remove domain specific words from consideration and the vocabulary shared is only general language."
   ]
  },
  {
   "cell_type": "markdown",
   "id": "3f4e54e6",
   "metadata": {},
   "source": [
    "### Q18\n",
    "\n",
    "Bonus question (5 points): Can you think of a few things we could do to improve similarity between documents that pertain to the same topic. Justify your answer without giving code"
   ]
  },
  {
   "cell_type": "markdown",
   "id": "5c8c6de1",
   "metadata": {},
   "source": [
    "#### Write your answer here\n",
    "Something Dr. Belcaid proposes for improving identifying similarity between documents is using rare/keywords rather than more frequent words. The idea being that highly domain specific phrases are probably rare, but they hold greater weight in deciphering the genre of a text. For this, he proposed Log-frequency weighting of words where we dampen the weight of a word as frequency increases. Now weight of a word in considering domain/genre/similairty still increases with frequency of the word in the text, but really popular general non-stop words no longer overpower more obscure possibly domain specific words."
   ]
  },
  {
   "cell_type": "markdown",
   "id": "aedf1d74",
   "metadata": {},
   "source": [
    "## Part III\n",
    "\n",
    "In this part we will build some basic analytics for a dataset consisting of flight arrival and departure details for all commercial flights within the USA in one month. While this dataset can be managed using Pandas (<1M records), scaling to a yearly or longer timeframe will greatly benefit from using a distributed computing framework such as `Spark`.\n",
    "\n",
    "Here, you should use exclusively `SparkDatFrames. \n",
    "\n",
    "We want to analyze this dataset to better schedule trips.  For example:\n",
    " * Avoid airlines carriers that are most often associated with delays.\n",
    " * Avoid departure days where delays are most frequent.\n",
    " * Avoid airports which are associated with delays or long taxxying time.\n",
    "* etc.\n",
    " \n",
    "\n",
    "The information about the fields contained in the data file can be found [here](https://dataverse.harvard.edu/dataset.xhtml;jsessionid=0414e25969eccd0e88ae4d64fa0b?persistentId=doi%3A10.7910%2FDVN%2FHG7NV7&version=&q=&fileTypeGroupFacet=&fileTag=%221.+Documentation%22&fileSortField=date&fileSortOrder=desc)\n"
   ]
  },
  {
   "cell_type": "markdown",
   "id": "149805af",
   "metadata": {},
   "source": [
    "### Q19\n",
    "\n",
    "Load the file `flight_info.csv` into a spark `DataFrame` called `fight_info`.\n",
    "\n",
    "  * Note that you will need to create a sparkSession prior to loading the data\n",
    "  \n",
    "* How many entries does the file contain?\n",
    "\n"
   ]
  },
  {
   "cell_type": "code",
   "execution_count": 20,
   "id": "3ad5e6ad",
   "metadata": {},
   "outputs": [
    {
     "name": "stdout",
     "output_type": "stream",
     "text": [
      "The flight_info.csv file contains 450017 entries\n"
     ]
    }
   ],
   "source": [
    "### Write your code here\n",
    "from pyspark.sql import SparkSession\n",
    "session = SparkSession(sc)\n",
    "\n",
    "flight_info = session.read.csv(\"data/flight_info.csv\", header=True)\n",
    "print(f\"The flight_info.csv file contains {flight_info.count()} entries\")"
   ]
  },
  {
   "cell_type": "markdown",
   "id": "4fad81f1",
   "metadata": {},
   "source": [
    "### Q20\n",
    "\n",
    "Use `pySpark-SQL` or `pandas-like syntax to compute the airlines represented in this dataset\n",
    "The airline information is stored in a field called UniqueCarrier\n",
    "* UniqueCarrier: Represents the unique carrier code (ex.AA = American Airlines) \n"
   ]
  },
  {
   "cell_type": "code",
   "execution_count": 21,
   "id": "73fd7b0b",
   "metadata": {},
   "outputs": [
    {
     "name": "stderr",
     "output_type": "stream",
     "text": [
      "\r",
      "[Stage 137:=======>                                                 (1 + 7) / 8]\r"
     ]
    },
    {
     "name": "stdout",
     "output_type": "stream",
     "text": [
      "+-------------+\n",
      "|UniqueCarrier|\n",
      "+-------------+\n",
      "|           NK|\n",
      "|           AA|\n",
      "|           EV|\n",
      "|           B6|\n",
      "|           DL|\n",
      "|           F9|\n",
      "|           HA|\n",
      "|           UA|\n",
      "|           OO|\n",
      "|           WN|\n",
      "|           AS|\n",
      "|           VX|\n",
      "+-------------+\n",
      "\n"
     ]
    },
    {
     "name": "stderr",
     "output_type": "stream",
     "text": [
      "\r",
      "                                                                                \r"
     ]
    }
   ],
   "source": [
    "### Write your code here\n",
    "\n",
    "flight_info.select(\"UniqueCarrier\").distinct().show()"
   ]
  },
  {
   "cell_type": "markdown",
   "id": "1349b2f5",
   "metadata": {},
   "source": [
    "### Q21\n",
    "\n",
    "The data file contains various other fields, two of which are useful for answering the next question.\n",
    "\n",
    "* CRSDepTime: Represents the scheduled departure time\n",
    "* DepTime: Represents the actual departure time\n",
    "\n",
    "Compute the number of flights delayed per each carried code represented in this dataset. Sort the data by decreasing order of delays.\n",
    "  * A delay is observed when `DepTime` > `CRSDepTime`\n"
   ]
  },
  {
   "cell_type": "code",
   "execution_count": 22,
   "id": "858043c0",
   "metadata": {},
   "outputs": [
    {
     "name": "stderr",
     "output_type": "stream",
     "text": [
      "                                                                                \r"
     ]
    },
    {
     "data": {
      "text/plain": [
       "[Row(UniqueCarrier='WN', count=47472),\n",
       " Row(UniqueCarrier='DL', count=24334),\n",
       " Row(UniqueCarrier='AA', count=23461),\n",
       " Row(UniqueCarrier='UA', count=17701),\n",
       " Row(UniqueCarrier='OO', count=16751),\n",
       " Row(UniqueCarrier='EV', count=11596),\n",
       " Row(UniqueCarrier='B6', count=9396),\n",
       " Row(UniqueCarrier='AS', count=4488),\n",
       " Row(UniqueCarrier='NK', count=4151),\n",
       " Row(UniqueCarrier='F9', count=2988),\n",
       " Row(UniqueCarrier='VX', count=2648),\n",
       " Row(UniqueCarrier='HA', count=1939)]"
      ]
     },
     "execution_count": 22,
     "metadata": {},
     "output_type": "execute_result"
    }
   ],
   "source": [
    "difference_by_carrier = flight_info.filter((flight_info.DepTime - flight_info.CRSDepTime) > 0).groupBy(flight_info.UniqueCarrier).count()\n",
    "diff_carrier_delays = difference_by_carrier.orderBy(\"count\", ascending=False).collect()\n",
    "\n",
    "diff_carrier_delays"
   ]
  },
  {
   "cell_type": "markdown",
   "id": "1645593b",
   "metadata": {},
   "source": [
    "### Q22\n",
    "\n",
    " Use the file `airlines.csv` to find the the complete name of the airline. Here, you are required to load the file as a pyspark DataFrame; call it `airlines_info`, and repeat the query above while including the `flights.csv `file in your query ( requires doing a `join`) so that you can also display the full name of the carrier (second column). \n",
    "\n",
    "The result will look (approximately) like:\n",
    "\n",
    "```\n",
    "[Row(UniqueCarrier='WN', first(_c1)='Southwest Airlines', count=SOME_count),\n",
    " Row(UniqueCarrier='DL', first(_c1)='Delta Air Lines', count=SOME_count),\n",
    " Row(UniqueCarrier='AA', first(_c1)='American Airlines', count=SOME_count),\n",
    " ...\n",
    " ]\n",
    "```\n",
    "\n",
    "The carrier code in the `airlines.csv` file is provided in the 4th (1-based) column\n",
    "\n",
    "Note that the file `airlines.csv` does not have column header. Hence, you need to print one line of your dataset to see what names Spark gave to the columns. Use the name provided by Spark in your query."
   ]
  },
  {
   "cell_type": "code",
   "execution_count": 23,
   "id": "30cea22b",
   "metadata": {},
   "outputs": [
    {
     "name": "stdout",
     "output_type": "stream",
     "text": [
      "Row(_c0='1', _c1='Private flight', _c2='\\\\N', _c3='-', _c4='N/A', _c5=None, _c6=None, _c7='Y')\n"
     ]
    }
   ],
   "source": [
    "### Write your code here\n",
    "\n",
    "airlines_info = session.read.csv(\"data/airlines.csv\", header=False)\n",
    "print(airlines_info.first())"
   ]
  },
  {
   "cell_type": "code",
   "execution_count": 24,
   "id": "96a37d78",
   "metadata": {},
   "outputs": [
    {
     "name": "stderr",
     "output_type": "stream",
     "text": [
      "                                                                                \r"
     ]
    },
    {
     "data": {
      "text/plain": [
       "[Row(UniqueCarrier='WN', _c1='Southwest Airlines', count=47472),\n",
       " Row(UniqueCarrier='DL', _c1='Delta Air Lines', count=24334),\n",
       " Row(UniqueCarrier='AA', _c1='American Airlines', count=23461),\n",
       " Row(UniqueCarrier='UA', _c1='United Airlines', count=17701),\n",
       " Row(UniqueCarrier='OO', _c1='SkyWest', count=16751),\n",
       " Row(UniqueCarrier='EV', _c1='Atlantic Southeast Airlines', count=11596),\n",
       " Row(UniqueCarrier='B6', _c1='JetBlue Airways', count=9396),\n",
       " Row(UniqueCarrier='AS', _c1='Alaska Airlines', count=4488),\n",
       " Row(UniqueCarrier='NK', _c1='Spirit Airlines', count=4151),\n",
       " Row(UniqueCarrier='F9', _c1='Frontier Airlines', count=2988),\n",
       " Row(UniqueCarrier='VX', _c1='Virgin America', count=2648),\n",
       " Row(UniqueCarrier='HA', _c1='Hawaiian Airlines', count=1939)]"
      ]
     },
     "execution_count": 24,
     "metadata": {},
     "output_type": "execute_result"
    }
   ],
   "source": [
    "flight_info = session.read.csv(\"data/flight_info.csv\", header=True)\n",
    "airlines_info = session.read.csv(\"data/airlines.csv\", header=False)\n",
    "\n",
    "airlines_info.createOrReplaceTempView(\"airlines\")\n",
    "flight_info.createOrReplaceTempView(\"flights\")\n",
    "\n",
    "airline_table = airlines_info.join(flight_info, airlines_info._c3 ==  flight_info.UniqueCarrier, \"inner\").filter((flight_info.DepTime - flight_info.CRSDepTime) > 0).groupBy(flight_info.UniqueCarrier, airlines_info._c1).count()\n",
    "airline_delay_count = airline_table.orderBy(\"count\", ascending=False).collect()\n",
    "airline_delay_count"
   ]
  },
  {
   "cell_type": "markdown",
   "id": "4e0123a8",
   "metadata": {},
   "source": [
    "### Q23\n",
    "\n",
    "Compute the number of delays per company per day. The day is encoded as an integer in the column `DayOfWeek` in `fight_info`. You can display the day as an integer or map it into a string name of the week.\n",
    "Sort the data by airline code (UniqueCarrier) and by increasing values of DayOfWeek\n",
    "\n",
    "\n",
    "You results should look like the following\n",
    "\n"
   ]
  },
  {
   "cell_type": "code",
   "execution_count": 25,
   "id": "f9971baa",
   "metadata": {},
   "outputs": [
    {
     "name": "stderr",
     "output_type": "stream",
     "text": [
      "\r",
      "[Stage 161:============================>                            (4 + 4) / 8]\r",
      "\r",
      "                                                                                \r"
     ]
    },
    {
     "data": {
      "text/plain": [
       "[Row(UniqueCarrier='AA', DayOfWeek='1', count=4639),\n",
       " Row(UniqueCarrier='AA', DayOfWeek='2', count=3288),\n",
       " Row(UniqueCarrier='AA', DayOfWeek='3', count=2570),\n",
       " Row(UniqueCarrier='AA', DayOfWeek='4', count=3142),\n",
       " Row(UniqueCarrier='AA', DayOfWeek='5', count=3108),\n",
       " Row(UniqueCarrier='AA', DayOfWeek='6', count=2509),\n",
       " Row(UniqueCarrier='AA', DayOfWeek='7', count=4205),\n",
       " Row(UniqueCarrier='AS', DayOfWeek='1', count=786),\n",
       " Row(UniqueCarrier='AS', DayOfWeek='2', count=580),\n",
       " Row(UniqueCarrier='AS', DayOfWeek='3', count=573),\n",
       " Row(UniqueCarrier='AS', DayOfWeek='4', count=656),\n",
       " Row(UniqueCarrier='AS', DayOfWeek='5', count=554),\n",
       " Row(UniqueCarrier='AS', DayOfWeek='6', count=470),\n",
       " Row(UniqueCarrier='AS', DayOfWeek='7', count=869),\n",
       " Row(UniqueCarrier='B6', DayOfWeek='1', count=1754),\n",
       " Row(UniqueCarrier='B6', DayOfWeek='2', count=1628),\n",
       " Row(UniqueCarrier='B6', DayOfWeek='3', count=1109),\n",
       " Row(UniqueCarrier='B6', DayOfWeek='4', count=1101),\n",
       " Row(UniqueCarrier='B6', DayOfWeek='5', count=1175),\n",
       " Row(UniqueCarrier='B6', DayOfWeek='6', count=900),\n",
       " Row(UniqueCarrier='B6', DayOfWeek='7', count=1729),\n",
       " Row(UniqueCarrier='DL', DayOfWeek='1', count=5573),\n",
       " Row(UniqueCarrier='DL', DayOfWeek='2', count=3231),\n",
       " Row(UniqueCarrier='DL', DayOfWeek='3', count=2390),\n",
       " Row(UniqueCarrier='DL', DayOfWeek='4', count=2964),\n",
       " Row(UniqueCarrier='DL', DayOfWeek='5', count=3002),\n",
       " Row(UniqueCarrier='DL', DayOfWeek='6', count=2674),\n",
       " Row(UniqueCarrier='DL', DayOfWeek='7', count=4500),\n",
       " Row(UniqueCarrier='EV', DayOfWeek='1', count=2520),\n",
       " Row(UniqueCarrier='EV', DayOfWeek='2', count=1921),\n",
       " Row(UniqueCarrier='EV', DayOfWeek='3', count=1258),\n",
       " Row(UniqueCarrier='EV', DayOfWeek='4', count=1575),\n",
       " Row(UniqueCarrier='EV', DayOfWeek='5', count=1593),\n",
       " Row(UniqueCarrier='EV', DayOfWeek='6', count=878),\n",
       " Row(UniqueCarrier='EV', DayOfWeek='7', count=1851),\n",
       " Row(UniqueCarrier='F9', DayOfWeek='1', count=614),\n",
       " Row(UniqueCarrier='F9', DayOfWeek='2', count=469),\n",
       " Row(UniqueCarrier='F9', DayOfWeek='3', count=330),\n",
       " Row(UniqueCarrier='F9', DayOfWeek='4', count=370),\n",
       " Row(UniqueCarrier='F9', DayOfWeek='5', count=396),\n",
       " Row(UniqueCarrier='F9', DayOfWeek='6', count=329),\n",
       " Row(UniqueCarrier='F9', DayOfWeek='7', count=480),\n",
       " Row(UniqueCarrier='HA', DayOfWeek='1', count=256),\n",
       " Row(UniqueCarrier='HA', DayOfWeek='2', count=290),\n",
       " Row(UniqueCarrier='HA', DayOfWeek='3', count=215),\n",
       " Row(UniqueCarrier='HA', DayOfWeek='4', count=233),\n",
       " Row(UniqueCarrier='HA', DayOfWeek='5', count=371),\n",
       " Row(UniqueCarrier='HA', DayOfWeek='6', count=289),\n",
       " Row(UniqueCarrier='HA', DayOfWeek='7', count=285),\n",
       " Row(UniqueCarrier='NK', DayOfWeek='1', count=814),\n",
       " Row(UniqueCarrier='NK', DayOfWeek='2', count=609),\n",
       " Row(UniqueCarrier='NK', DayOfWeek='3', count=420),\n",
       " Row(UniqueCarrier='NK', DayOfWeek='4', count=550),\n",
       " Row(UniqueCarrier='NK', DayOfWeek='5', count=529),\n",
       " Row(UniqueCarrier='NK', DayOfWeek='6', count=447),\n",
       " Row(UniqueCarrier='NK', DayOfWeek='7', count=782),\n",
       " Row(UniqueCarrier='OO', DayOfWeek='1', count=3289),\n",
       " Row(UniqueCarrier='OO', DayOfWeek='2', count=2626),\n",
       " Row(UniqueCarrier='OO', DayOfWeek='3', count=2075),\n",
       " Row(UniqueCarrier='OO', DayOfWeek='4', count=2442),\n",
       " Row(UniqueCarrier='OO', DayOfWeek='5', count=2402),\n",
       " Row(UniqueCarrier='OO', DayOfWeek='6', count=1377),\n",
       " Row(UniqueCarrier='OO', DayOfWeek='7', count=2540),\n",
       " Row(UniqueCarrier='UA', DayOfWeek='1', count=3658),\n",
       " Row(UniqueCarrier='UA', DayOfWeek='2', count=2641),\n",
       " Row(UniqueCarrier='UA', DayOfWeek='3', count=2160),\n",
       " Row(UniqueCarrier='UA', DayOfWeek='4', count=2512),\n",
       " Row(UniqueCarrier='UA', DayOfWeek='5', count=2413),\n",
       " Row(UniqueCarrier='UA', DayOfWeek='6', count=1403),\n",
       " Row(UniqueCarrier='UA', DayOfWeek='7', count=2914),\n",
       " Row(UniqueCarrier='VX', DayOfWeek='1', count=522),\n",
       " Row(UniqueCarrier='VX', DayOfWeek='2', count=385),\n",
       " Row(UniqueCarrier='VX', DayOfWeek='3', count=343),\n",
       " Row(UniqueCarrier='VX', DayOfWeek='4', count=394),\n",
       " Row(UniqueCarrier='VX', DayOfWeek='5', count=374),\n",
       " Row(UniqueCarrier='VX', DayOfWeek='6', count=204),\n",
       " Row(UniqueCarrier='VX', DayOfWeek='7', count=426),\n",
       " Row(UniqueCarrier='WN', DayOfWeek='1', count=8858),\n",
       " Row(UniqueCarrier='WN', DayOfWeek='2', count=6816),\n",
       " Row(UniqueCarrier='WN', DayOfWeek='3', count=5766),\n",
       " Row(UniqueCarrier='WN', DayOfWeek='4', count=7027),\n",
       " Row(UniqueCarrier='WN', DayOfWeek='5', count=6967),\n",
       " Row(UniqueCarrier='WN', DayOfWeek='6', count=4521),\n",
       " Row(UniqueCarrier='WN', DayOfWeek='7', count=7517)]"
      ]
     },
     "execution_count": 25,
     "metadata": {},
     "output_type": "execute_result"
    }
   ],
   "source": [
    "### Write your code here\n",
    "by_carrier = flight_info.filter((flight_info.DepTime - flight_info.CRSDepTime) > 0).groupBy(flight_info.UniqueCarrier, flight_info.DayOfWeek).count()\n",
    "carrier_delays = by_carrier.orderBy(\"UniqueCarrier\", \"DayOfWeek\", ascending=True).collect()\n",
    "\n",
    "carrier_delays"
   ]
  },
  {
   "cell_type": "markdown",
   "id": "4c955760",
   "metadata": {},
   "source": [
    "### Q24  \n",
    "\n",
    "Counting the number of delayed flights per airline is misleading, as airlines with more flights are more likley to have delays than companies with substantially fiewer flights. \n",
    "\n",
    "Repeat the same query above but, for each carrier, normalize the counts of delays by the total number of flights for that carrier. \n"
   ]
  },
  {
   "cell_type": "code",
   "execution_count": 26,
   "id": "13ae9b5e",
   "metadata": {},
   "outputs": [
    {
     "name": "stderr",
     "output_type": "stream",
     "text": [
      "\r",
      "[Stage 170:=================================================>       (7 + 1) / 8]\r",
      "\r",
      "                                                                                \r"
     ]
    },
    {
     "data": {
      "text/plain": [
       "[Row(UniqueCarrier='AA', _c1='American Airlines', count=73132),\n",
       " Row(UniqueCarrier='AS', _c1='Alaska Airlines', count=14711),\n",
       " Row(UniqueCarrier='B6', _c1='JetBlue Airways', count=24602),\n",
       " Row(UniqueCarrier='DL', _c1='Delta Air Lines', count=69813),\n",
       " Row(UniqueCarrier='EV', _c1='Atlantic Southeast Airlines', count=35037),\n",
       " Row(UniqueCarrier='F9', _c1='Frontier Airlines', count=7760),\n",
       " Row(UniqueCarrier='HA', _c1='Hawaiian Airlines', count=6276),\n",
       " Row(UniqueCarrier='NK', _c1='Spirit Airlines', count=12570),\n",
       " Row(UniqueCarrier='OO', _c1='SkyWest', count=50146),\n",
       " Row(UniqueCarrier='UA', _c1='United Airlines', count=42403),\n",
       " Row(UniqueCarrier='VX', _c1='Virgin America', count=5782),\n",
       " Row(UniqueCarrier='WN', _c1='Southwest Airlines', count=107785)]"
      ]
     },
     "execution_count": 26,
     "metadata": {},
     "output_type": "execute_result"
    }
   ],
   "source": [
    "### Write your code here\n",
    "\n",
    "airline_table_all_flights = airlines_info.join(flight_info, airlines_info._c3 ==  flight_info.UniqueCarrier, \"inner\").groupBy(flight_info.UniqueCarrier, airlines_info._c1).count()\n",
    "airline_flights_count = airline_table_all_flights.orderBy(\"UniqueCarrier\", ascending=True).collect()\n",
    "airline_flights_count"
   ]
  },
  {
   "cell_type": "code",
   "execution_count": 27,
   "id": "984fd805",
   "metadata": {},
   "outputs": [
    {
     "data": {
      "text/plain": [
       "[Row(UniqueCarrier='AA', _c1='American Airlines', count=23461),\n",
       " Row(UniqueCarrier='AS', _c1='Alaska Airlines', count=4488),\n",
       " Row(UniqueCarrier='B6', _c1='JetBlue Airways', count=9396),\n",
       " Row(UniqueCarrier='DL', _c1='Delta Air Lines', count=24334),\n",
       " Row(UniqueCarrier='EV', _c1='Atlantic Southeast Airlines', count=11596),\n",
       " Row(UniqueCarrier='F9', _c1='Frontier Airlines', count=2988),\n",
       " Row(UniqueCarrier='HA', _c1='Hawaiian Airlines', count=1939),\n",
       " Row(UniqueCarrier='NK', _c1='Spirit Airlines', count=4151),\n",
       " Row(UniqueCarrier='OO', _c1='SkyWest', count=16751),\n",
       " Row(UniqueCarrier='UA', _c1='United Airlines', count=17701),\n",
       " Row(UniqueCarrier='VX', _c1='Virgin America', count=2648),\n",
       " Row(UniqueCarrier='WN', _c1='Southwest Airlines', count=47472)]"
      ]
     },
     "execution_count": 27,
     "metadata": {},
     "output_type": "execute_result"
    }
   ],
   "source": [
    "airline_table = airlines_info.join(flight_info, airlines_info._c3 ==  flight_info.UniqueCarrier, \"inner\").filter((flight_info.DepTime - flight_info.CRSDepTime) > 0).groupBy(flight_info.UniqueCarrier, airlines_info._c1).count()\n",
    "airline_delay_count = airline_table.orderBy(\"UniqueCarrier\", ascending=True).collect()\n",
    "airline_delay_count    "
   ]
  },
  {
   "cell_type": "code",
   "execution_count": 28,
   "id": "e2ec86c9",
   "metadata": {},
   "outputs": [
    {
     "name": "stderr",
     "output_type": "stream",
     "text": [
      "                                                                                \r"
     ]
    },
    {
     "data": {
      "text/plain": [
       "[Row(_c1='JetBlue Airways', UniqueCarrier='B6', normalized_delays=0.3819),\n",
       " Row(_c1='Frontier Airlines', UniqueCarrier='F9', normalized_delays=0.3851),\n",
       " Row(_c1='Spirit Airlines', UniqueCarrier='NK', normalized_delays=0.3302),\n",
       " Row(_c1='Hawaiian Airlines', UniqueCarrier='HA', normalized_delays=0.309),\n",
       " Row(_c1='Atlantic Southeast Airlines', UniqueCarrier='EV', normalized_delays=0.331),\n",
       " Row(_c1='Delta Air Lines', UniqueCarrier='DL', normalized_delays=0.3486),\n",
       " Row(_c1='American Airlines', UniqueCarrier='AA', normalized_delays=0.3208),\n",
       " Row(_c1='SkyWest', UniqueCarrier='OO', normalized_delays=0.334),\n",
       " Row(_c1='United Airlines', UniqueCarrier='UA', normalized_delays=0.4174),\n",
       " Row(_c1='Southwest Airlines', UniqueCarrier='WN', normalized_delays=0.4404),\n",
       " Row(_c1='Alaska Airlines', UniqueCarrier='AS', normalized_delays=0.3051),\n",
       " Row(_c1='Virgin America', UniqueCarrier='VX', normalized_delays=0.458)]"
      ]
     },
     "execution_count": 28,
     "metadata": {},
     "output_type": "execute_result"
    }
   ],
   "source": [
    "airline_table.createOrReplaceTempView(\"delays\")\n",
    "airline_table_all_flights.createOrReplaceTempView(\"all_flights\")\n",
    "\n",
    "big_table = session.sql(\"\"\"\n",
    "SELECT A._c1, A.UniqueCarrier, ROUND(A.count/F.count, 4) AS normalized_delays\n",
    "FROM delays as A\n",
    "JOIN all_flights as F\n",
    "WHERE A.UniqueCarrier = F.UniqueCarrier\n",
    "\"\"\")\n",
    "\n",
    "big_table.collect()"
   ]
  },
  {
   "cell_type": "markdown",
   "id": "5b73b3e4",
   "metadata": {},
   "source": [
    "### Q25 \n",
    "\n",
    "Time the query above. How long did it take to run. \n",
    "  * Make sure you run the code a few times and compute the average run time.\n",
    "  * The above should be easy to implement if you use the correct Jupyter Notebook `magic` function\n",
    "  "
   ]
  },
  {
   "cell_type": "code",
   "execution_count": 29,
   "id": "7df43da8",
   "metadata": {},
   "outputs": [
    {
     "name": "stderr",
     "output_type": "stream",
     "text": [
      "                                                                                \r"
     ]
    },
    {
     "name": "stdout",
     "output_type": "stream",
     "text": [
      "2.07 s ± 919 ms per loop (mean ± std. dev. of 10 runs, 1 loop each)\n"
     ]
    }
   ],
   "source": [
    "%%timeit -r10\n",
    "\n",
    "big_table = session.sql(\"\"\"\n",
    "SELECT A._c1, A.UniqueCarrier, ROUND(A.count/F.count, 4) AS normalized_delays\n",
    "FROM delays as A\n",
    "JOIN all_flights as F\n",
    "WHERE A.UniqueCarrier = F.UniqueCarrier\n",
    "\"\"\")\n",
    "\n",
    "big_table.collect()"
   ]
  },
  {
   "cell_type": "markdown",
   "id": "604e85e0",
   "metadata": {},
   "source": [
    "### Q26 \n",
    "\n",
    "Use one of the techniques covered in class to accelerate this query. Time your query to see by how much the run time was improved"
   ]
  },
  {
   "cell_type": "code",
   "execution_count": 30,
   "id": "2e951d64",
   "metadata": {},
   "outputs": [
    {
     "name": "stderr",
     "output_type": "stream",
     "text": [
      "                                                                                \r"
     ]
    },
    {
     "data": {
      "text/plain": [
       "[]"
      ]
     },
     "execution_count": 30,
     "metadata": {},
     "output_type": "execute_result"
    }
   ],
   "source": [
    "### Write your code here\n",
    "session.sql(\"\"\"\n",
    "CACHE TABLE all_flights\n",
    "\"\"\").collect()"
   ]
  },
  {
   "cell_type": "code",
   "execution_count": 31,
   "id": "14c8797f",
   "metadata": {},
   "outputs": [
    {
     "data": {
      "text/plain": [
       "[]"
      ]
     },
     "execution_count": 31,
     "metadata": {},
     "output_type": "execute_result"
    }
   ],
   "source": [
    "### Write your code here\n",
    "session.sql(\"\"\"\n",
    "CACHE TABLE delays\n",
    "\"\"\").collect()"
   ]
  },
  {
   "cell_type": "code",
   "execution_count": 32,
   "id": "3053465f",
   "metadata": {},
   "outputs": [
    {
     "name": "stderr",
     "output_type": "stream",
     "text": [
      "                                                                                \r"
     ]
    },
    {
     "name": "stdout",
     "output_type": "stream",
     "text": [
      "The slowest run took 6.25 times longer than the fastest. This could mean that an intermediate result is being cached.\n",
      "1.29 s ± 1.09 s per loop (mean ± std. dev. of 10 runs, 1 loop each)\n"
     ]
    }
   ],
   "source": [
    "%%timeit -r10\n",
    "\n",
    "big_table = session.sql(\"\"\"\n",
    "SELECT A._c1, A.UniqueCarrier, ROUND(A.count/F.count, 4) AS normalized_delays\n",
    "FROM delays as A\n",
    "JOIN all_flights as F\n",
    "WHERE A.UniqueCarrier = F.UniqueCarrier\n",
    "\"\"\")\n",
    "\n",
    "big_table.collect()"
   ]
  },
  {
   "cell_type": "markdown",
   "id": "8a87a433",
   "metadata": {},
   "source": [
    "### Q27 \n",
    "\n",
    "Is the departure delay (i.e., DepTime - CRSDepTime) predictive of the arrival delay (ArrTime > CRSArrTime)?\n",
    "Use an approach of your choice (e.g. `skelearn` which we covered in class or `Spark`) to model as a linear regression the arrival delay as a function of the departure delay. \n",
    "\n"
   ]
  },
  {
   "cell_type": "code",
   "execution_count": 40,
   "id": "f8dbd52d",
   "metadata": {},
   "outputs": [
    {
     "name": "stderr",
     "output_type": "stream",
     "text": [
      "\r",
      "[Stage 346:=======>                                                 (1 + 7) / 8]\r",
      "\r",
      "                                                                                \r"
     ]
    },
    {
     "name": "stdout",
     "output_type": "stream",
     "text": [
      "+-------+----------+----------------------+----------------------+\n",
      "|DepTime|CRSDepTime|(DepTime - CRSDepTime)|(ArrTime > CRSArrTime)|\n",
      "+-------+----------+----------------------+----------------------+\n",
      "| 1656.0|      1619|                  37.0|                  true|\n",
      "| 1632.0|      1619|                  13.0|                  true|\n",
      "| 1636.0|      1619|                  17.0|                  true|\n",
      "| 1312.0|      1305|                   7.0|                  true|\n",
      "| 1314.0|      1305|                   9.0|                 false|\n",
      "| 1314.0|      1305|                   9.0|                  true|\n",
      "| 1350.0|      1305|                  45.0|                  true|\n",
      "| 1309.0|      1305|                   4.0|                 false|\n",
      "| 1338.0|      1315|                  23.0|                  true|\n",
      "| 1131.0|      1130|                   1.0|                  true|\n",
      "| 1251.0|      1130|                 121.0|                  true|\n",
      "| 1136.0|      1130|                   6.0|                  true|\n",
      "|  626.0|       625|                   1.0|                 false|\n",
      "| 1011.0|      1001|                  10.0|                  true|\n",
      "| 1058.0|      1055|                   3.0|                 false|\n",
      "| 1151.0|      1055|                  96.0|                  true|\n",
      "| 1100.0|      1055|                  45.0|                 false|\n",
      "| 1152.0|      1055|                  97.0|                  true|\n",
      "|  639.0|       638|                   1.0|                 false|\n",
      "| 1039.0|      1035|                   4.0|                  true|\n",
      "| 1506.0|      1505|                   1.0|                 false|\n",
      "|  706.0|       700|                   6.0|                  true|\n",
      "|  701.0|       700|                   1.0|                 false|\n",
      "| 1713.0|      1659|                  54.0|                  true|\n",
      "|  948.0|       943|                   5.0|                  true|\n",
      "| 2218.0|      2208|                  10.0|                  true|\n",
      "| 2209.0|      2208|                   1.0|                  true|\n",
      "| 2236.0|      2208|                  28.0|                  true|\n",
      "| 2211.0|      2208|                   3.0|                 false|\n",
      "| 2305.0|      2208|                  97.0|                 false|\n",
      "| 2232.0|      2205|                  27.0|                 false|\n",
      "| 2306.0|      2205|                 101.0|                 false|\n",
      "| 2206.0|      2205|                   1.0|                 false|\n",
      "| 2214.0|      2205|                   9.0|                 false|\n",
      "| 2212.0|      2205|                   7.0|                 false|\n",
      "| 2359.0|      2205|                 154.0|                 false|\n",
      "| 2229.0|      2205|                  24.0|                  true|\n",
      "| 2248.0|      2205|                  43.0|                  true|\n",
      "| 2225.0|      2205|                  20.0|                 false|\n",
      "| 2310.0|      2205|                 105.0|                  true|\n",
      "| 2352.0|      2205|                 147.0|                 false|\n",
      "| 1716.0|      1630|                  86.0|                  true|\n",
      "| 1637.0|      1630|                   7.0|                  true|\n",
      "| 1740.0|      1630|                 110.0|                  true|\n",
      "| 2008.0|      1955|                  53.0|                  true|\n",
      "| 2130.0|      1955|                 175.0|                  true|\n",
      "| 2018.0|      1955|                  63.0|                  true|\n",
      "| 1629.0|      1625|                   4.0|                  true|\n",
      "| 1723.0|      1625|                  98.0|                  true|\n",
      "| 1652.0|      1625|                  27.0|                  true|\n",
      "+-------+----------+----------------------+----------------------+\n",
      "only showing top 50 rows\n",
      "\n"
     ]
    }
   ],
   "source": [
    "### Write your code here\n",
    "airline_delay_table = airlines_info.join(flight_info, airlines_info._c3 ==  flight_info.UniqueCarrier, \"inner\").filter((flight_info.DepTime - flight_info.CRSDepTime) > 0).select(flight_info.DepTime, flight_info.CRSDepTime, flight_info.DepTime - flight_info.CRSDepTime, flight_info.ArrTime > flight_info.CRSArrTime)\n",
    "\n",
    "dept_delays_list = airline_delay_table.select(\"(DepTime - CRSDepTime)\").rdd.flatMap(lambda x: x).collect()\n",
    "arr_delays_list = airline_delay_table.select(\"(ArrTime > CRSArrTime)\").rdd.flatMap(lambda x: x).collect()\n",
    "\n",
    "airline_delay_table.show(50)\n"
   ]
  },
  {
   "cell_type": "code",
   "execution_count": 48,
   "id": "dae4410f",
   "metadata": {},
   "outputs": [],
   "source": [
    "airline_delay_table = airlines_info.join(flight_info, airlines_info._c3 ==  flight_info.UniqueCarrier, \"inner\").filter(((flight_info.DepTime - flight_info.CRSDepTime) > 0) & (flight_info.ArrTime.isNotNull())).select(flight_info.DepTime - flight_info.CRSDepTime, flight_info.ArrTime > flight_info.CRSArrTime)\n",
    "\n",
    "dept_delays_list = airline_delay_table.select(\"(DepTime - CRSDepTime)\").rdd.flatMap(lambda x: x).collect()\n",
    "arr_delays_list = airline_delay_table.select(\"(ArrTime > CRSArrTime)\").rdd.flatMap(lambda x: x).collect()\n",
    "\n",
    "dept_delays_int_list = []\n",
    "arr_delays_int_list = []\n",
    "\n",
    "for _ in arr_delays_list:\n",
    "    arr_delays_int_list.append(int(_))\n",
    "\n",
    "for _ in dept_delays_list:\n",
    "    dept_delays_int_list.append(int(_))\n"
   ]
  },
  {
   "cell_type": "code",
   "execution_count": 52,
   "id": "19db102f",
   "metadata": {},
   "outputs": [
    {
     "ename": "ImportError",
     "evalue": "cannot import name 'logregress' from 'scipy.stats' (/opt/conda/lib/python3.9/site-packages/scipy/stats/__init__.py)",
     "output_type": "error",
     "traceback": [
      "\u001b[0;31m---------------------------------------------------------------------------\u001b[0m",
      "\u001b[0;31mImportError\u001b[0m                               Traceback (most recent call last)",
      "\u001b[0;32m/tmp/ipykernel_36/2975396029.py\u001b[0m in \u001b[0;36m<module>\u001b[0;34m\u001b[0m\n\u001b[0;32m----> 1\u001b[0;31m \u001b[0;32mfrom\u001b[0m \u001b[0mscipy\u001b[0m\u001b[0;34m.\u001b[0m\u001b[0mstats\u001b[0m \u001b[0;32mimport\u001b[0m \u001b[0mlogregress\u001b[0m\u001b[0;34m\u001b[0m\u001b[0;34m\u001b[0m\u001b[0m\n\u001b[0m\u001b[1;32m      2\u001b[0m \u001b[0;34m\u001b[0m\u001b[0m\n\u001b[1;32m      3\u001b[0m \u001b[0;34m\u001b[0m\u001b[0m\n\u001b[1;32m      4\u001b[0m \u001b[0mlinreg\u001b[0m \u001b[0;34m=\u001b[0m \u001b[0mlogregress\u001b[0m\u001b[0;34m(\u001b[0m\u001b[0mdept_delays_int_list\u001b[0m\u001b[0;34m,\u001b[0m \u001b[0marr_delays_int_list\u001b[0m\u001b[0;34m)\u001b[0m\u001b[0;34m\u001b[0m\u001b[0;34m\u001b[0m\u001b[0m\n\u001b[1;32m      5\u001b[0m \u001b[0mlinreg\u001b[0m\u001b[0;34m\u001b[0m\u001b[0;34m\u001b[0m\u001b[0m\n",
      "\u001b[0;31mImportError\u001b[0m: cannot import name 'logregress' from 'scipy.stats' (/opt/conda/lib/python3.9/site-packages/scipy/stats/__init__.py)"
     ]
    }
   ],
   "source": [
    "from scipy.stats import linregress\n",
    "\n",
    "\n",
    "linreg = linregress(dept_delays_int_list, arr_delays_int_list)\n",
    "linreg\n"
   ]
  },
  {
   "cell_type": "code",
   "execution_count": 50,
   "id": "6ec4db20",
   "metadata": {},
   "outputs": [
    {
     "name": "stdout",
     "output_type": "stream",
     "text": [
      "The slope is: 0.0008089067382794703\n",
      "The Interecept is: 0.6764614318881104\n",
      "The p.value is: 0.0\n"
     ]
    }
   ],
   "source": [
    "print(f\"The slope is: {linreg.slope}\")\n",
    "\n",
    "print(f\"The Interecept is: {linreg.intercept}\")\n",
    "\n",
    "print(f\"The p.value is: {linreg.pvalue}\")\n"
   ]
  },
  {
   "cell_type": "code",
   "execution_count": 51,
   "id": "a516d36f",
   "metadata": {},
   "outputs": [
    {
     "data": {
      "text/plain": [
       "[<matplotlib.lines.Line2D at 0x7f1e47578040>]"
      ]
     },
     "execution_count": 51,
     "metadata": {},
     "output_type": "execute_result"
    },
    {
     "data": {
      "image/png": "[encoded data removed]",
      "text/plain": [
       "<Figure size 1008x576 with 1 Axes>"
      ]
     },
     "metadata": {
      "needs_background": "light"
     },
     "output_type": "display_data"
    }
   ],
   "source": [
    "import numpy as np\n",
    "import matplotlib.pyplot as plt\n",
    "\n",
    "plt.figure(figsize=(14,8))\n",
    "\n",
    "x_axis = np.arange(0, 2400)\n",
    "y_line = linreg.intercept + linreg.slope * x_axis\n",
    "\n",
    "plt.scatter(dept_delays_int_list, arr_delays_int_list)\n",
    "plt.plot(x_axis, y_line, color='red', linewidth=4, alpha=0.5)\n"
   ]
  },
  {
   "cell_type": "markdown",
   "id": "f42a8fc3",
   "metadata": {},
   "source": [
    "Looking at the linear regression, it appears that there may be a slight correlation between departure delays and arrival delays, but considering the slope is 0.0008089067382794703 when y values can be either 0 or 1, I would say that the correlation is very weak. This is not a surprise to me considering that I have been on many flights with delayed departures but even early arrivals. From my research, it appears that there are multiple factors to consider regarding flight time and two major ones are weather and fuel consumption. A delayed flight can make up time with better than expected weather or increasing speed of the plane and fuel consumption. Increasing fuel consumption will cost airlines but so could causing a chain reaction of delayed flights so it may be worth the extra fuel consumption to make up for slight delays."
   ]
  }
 ],
 "metadata": {
  "kernelspec": {
   "display_name": "Python 3 (ipykernel)",
   "language": "python",
   "name": "python3"
  },
  "language_info": {
   "codemirror_mode": {
    "name": "ipython",
    "version": 3
   },
   "file_extension": ".py",
   "mimetype": "text/x-python",
   "name": "python",
   "nbconvert_exporter": "python",
   "pygments_lexer": "ipython3",
   "version": "3.9.7"
  }
 },
 "nbformat": 4,
 "nbformat_minor": 5
}
